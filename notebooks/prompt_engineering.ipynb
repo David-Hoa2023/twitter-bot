{
 "cells": [
  {
   "cell_type": "markdown",
   "id": "1d37d6de-cbd0-4fe4-98f1-a8c41113bb84",
   "metadata": {},
   "source": [
    "# QuantPy Twitter Bot\n",
    "\n",
    "This is a jupyter notebook, to guid through the process of prompt engineering and storing the data within python dataclasses.\n",
    "\n",
    "## Prompt Engineering\n",
    "\n",
    "Langchain prompting template adapted from [https://github.com/gkamradt](https://github.com/gkamradt/langchain-tutorials/blob/36957e9be70c09dcadaefb2caf790111170dd132/bots/Twitter_Reply_Bot/Twitter%20Reply%20Bot%20Notebook.ipynb)\n",
    "\n",
    "More on prompt engineering and langchain can be found [here](https://python.langchain.com/docs/modules/model_io/prompts/prompt_templates/prompts_pipelining)\n",
    "\n",
    "<b>Note on \"database\" structure: </b>\n",
    " - although not perfect, our database for the moment will be regular text files separated by '|' (divisors) with each row being a new entry."
   ]
  },
  {
   "cell_type": "code",
   "execution_count": 34,
   "id": "896cab48-886e-4724-864d-6600e5d99cff",
   "metadata": {},
   "outputs": [],
   "source": [
    "import os\n",
    "import re\n",
    "from dotenv import load_dotenv\n",
    "\n",
    "from langchain.chat_models import ChatOpenAI\n",
    "from langchain.prompts import (\n",
    "    ChatPromptTemplate,\n",
    "    SystemMessagePromptTemplate,\n",
    "    AIMessagePromptTemplate,\n",
    "    HumanMessagePromptTemplate,\n",
    ")"
   ]
  },
  {
   "cell_type": "markdown",
   "id": "c4e5a906-814e-45dd-85b6-db457bd82414",
   "metadata": {},
   "source": [
    "## Setting up variables"
   ]
  },
  {
   "cell_type": "code",
   "execution_count": 40,
   "id": "dbdd56e0",
   "metadata": {},
   "outputs": [
    {
     "name": "stdout",
     "output_type": "stream",
     "text": [
      "Application Dir: \n",
      "\t/Users/jonathonemerick/Documents/dev/quantpy-twitter-bot\n",
      "Raw Tweet File Dir: \n",
      "\t/Users/jonathonemerick/Documents/dev/quantpy-twitter-bot/data/raw/content-ideas.txt\n",
      "Processed Tweet File Dir: \n",
      "\t/Users/jonathonemerick/Documents/dev/quantpy-twitter-bot/data/processed/quants_tweets.txt\n"
     ]
    }
   ],
   "source": [
    "load_dotenv()\n",
    "\n",
    "# Secret keys from .env file\n",
    "OPENAI_API_KEY = os.getenv(\"OPENAI_API_KEY\")\n",
    "\n",
    "# Director Variables\n",
    "CUR_DIR = os.path.dirname(os.path.abspath('__file__'))\n",
    "APP_DIR = os.path.abspath(os.path.join(CUR_DIR, os.pardir))\n",
    "LOG_FILE = os.path.join(APP_DIR, \"twitter-bot.log\")\n",
    "RAW_TEXT_FILE = os.path.join(APP_DIR, \"data/raw/content-ideas.txt\")\n",
    "TEXT_FILE = os.path.join(APP_DIR, \"data/processed/quants_tweets.txt\")\n",
    "\n",
    "# print variables\n",
    "print(f\"Application Dir: \\n\\t{APP_DIR}\")\n",
    "print(f\"Raw Tweet File Dir: \\n\\t{RAW_TEXT_FILE}\")\n",
    "print(f\"Processed Tweet File Dir: \\n\\t{TEXT_FILE}\")"
   ]
  },
  {
   "cell_type": "markdown",
   "id": "0406fc4f-5c00-42e9-959a-71336cc0ce9d",
   "metadata": {},
   "source": [
    "## Prompt Engineering with ChatGPT"
   ]
  },
  {
   "cell_type": "code",
   "execution_count": 21,
   "id": "91098cf3-ed6c-4ab0-8e69-e7e300622c4a",
   "metadata": {},
   "outputs": [],
   "source": [
    "llm = ChatOpenAI(temperature=0.3,\n",
    "                 openai_api_key=OPENAI_API_KEY,\n",
    "                 model_name='gpt-3.5-turbo-0613',\n",
    "                )"
   ]
  },
  {
   "cell_type": "code",
   "execution_count": 22,
   "id": "0011dbdb-1c38-4416-bec8-f57a5e017e9b",
   "metadata": {},
   "outputs": [],
   "source": [
    "def generate_response(\n",
    "    llm: ChatOpenAI, quant_topic: str, quant_title: str\n",
    ") -> tuple[str, str]:\n",
    "    \"\"\"Generate AI Twitter Content for QuantPy Twitter Account\n",
    "\n",
    "    Parameters:\n",
    "        - llm:  pre-trained ChatOpenAi large language model\n",
    "        - quant_topic: Topic in Quant Finance\n",
    "        - quant_topic: Topic in Quant Finance\n",
    "\n",
    "    Returns:\n",
    "        - tuple[long response,short reposonse]: Chat GPT long and short responses\n",
    "    \"\"\"\n",
    "    # System Template for LLM to follow\n",
    "    system_template = \"\"\"\n",
    "        You are an incredibly wise and smart quantitative analyst that lives and breathes the world of quantitative finance.\n",
    "        Your goal is to writing short-form content for twitter given a `topic` in the area of quantitative finance and a `title` from the user.\n",
    "        \n",
    "        % RESPONSE TONE:\n",
    "\n",
    "        - Your response should be given in an active voice and be opinionated\n",
    "        - Your tone should be serious w/ a hint of wit and sarcasm\n",
    "        \n",
    "        % RESPONSE FORMAT:\n",
    "        \n",
    "        - Be extremely clear and concise\n",
    "        - Respond with phrases no longer than two sentences\n",
    "        - Do not respond with emojis\n",
    "        \n",
    "        % RESPONSE CONTENT:\n",
    "\n",
    "        - Include specific examples of where this is used in the quantitative finance space\n",
    "        - If you don't have an answer, say, \"Sorry, I'll have to ask the Quant Finance Gods!\"    \n",
    "\n",
    "        % RESPONSE TEMPLATE:\n",
    "\n",
    "        - Here is the response structure: \n",
    "            Hook: Captivate with a one-liner.\n",
    "            Intro: Briefly introduce the topic.\n",
    "            Explanation: Simplify the core idea.\n",
    "            Application: Note real-world relevance.\n",
    "            Closing: Reflective one-liner.\n",
    "            Action: Short engagement call.\n",
    "            Engagement: Quick question.\n",
    "    \n",
    "    \"\"\"\n",
    "    # system prompt template to follow\n",
    "    system_message_prompt = SystemMessagePromptTemplate.from_template(system_template)\n",
    "\n",
    "    # human template for input\n",
    "    human_template = \"topic to write about is {topic}, and the title will be {title}. Keep the total response under 200 words total!\"\n",
    "    human_message_prompt = HumanMessagePromptTemplate.from_template(\n",
    "        human_template, input_variables=[\"topic\", \"title\"]\n",
    "    )\n",
    "\n",
    "    # chat prompt template construction\n",
    "    chat_prompt = ChatPromptTemplate.from_messages(\n",
    "        [system_message_prompt, human_message_prompt]\n",
    "    )\n",
    "\n",
    "    # get a completed chat using formatted template with topic and title\n",
    "    final_prompt = chat_prompt.format_prompt(\n",
    "        topic=quant_topic, title=quant_title\n",
    "    ).to_messages()\n",
    "\n",
    "    # pass template through llm and extract content attribute\n",
    "    first_response = llm(final_prompt).content\n",
    "\n",
    "    # construct AI template, to pass back OpenAI response\n",
    "    ai_message_prompt = AIMessagePromptTemplate.from_template(first_response)\n",
    "\n",
    "    # additional prompt to remind ChatGPT of length requirement\n",
    "    reminder_template = \"This was good, but way too long, please make your response much more concise and much shorter! Make phrases no longer than 15 words in total. Please maintain the existing template.\"\n",
    "    reminder_prompt = HumanMessagePromptTemplate.from_template(reminder_template)\n",
    "\n",
    "    # chat prompt template construction with additional AI response and length reminder\n",
    "    chat_prompt2 = ChatPromptTemplate.from_messages(\n",
    "        [system_message_prompt, human_template, ai_message_prompt, reminder_prompt]\n",
    "    )\n",
    "\n",
    "    # get a completed chat using formatted template with topic and title\n",
    "    final_prompt = chat_prompt2.format_prompt(\n",
    "        topic=quant_topic, title=quant_title\n",
    "    ).to_messages()\n",
    "\n",
    "    # pass template through llm and extract content attribute\n",
    "    short_response = llm(final_prompt).content\n",
    "\n",
    "    return first_response, short_response"
   ]
  },
  {
   "cell_type": "markdown",
   "id": "ad1062bd-29b0-48e9-9ad0-5416018468ce",
   "metadata": {},
   "source": [
    "## Run generate response"
   ]
  },
  {
   "cell_type": "code",
   "execution_count": 14,
   "id": "db0bbe9b-2446-48ab-a0f6-b5a3f7632886",
   "metadata": {},
   "outputs": [],
   "source": [
    "first_response, short_response = generate_response(\n",
    "    llm, \n",
    "    quant_topic='Time Value of Money', \n",
    "    quant_title='Unveiling the Magic of Compounding: Time Value of Money'\n",
    "    )"
   ]
  },
  {
   "cell_type": "code",
   "execution_count": 35,
   "id": "29cc4abd-8773-4ab9-8dee-7829c936ea91",
   "metadata": {},
   "outputs": [],
   "source": [
    "# helper lambda functions to quickly cound dict values\n",
    "count_length = lambda d: sum(len(d[val]) for val in d)\n",
    "count_words = lambda d: sum(len(re.findall(r'\\w+', d[val])) for val in d)\n",
    "\n",
    "# Extract OpenAI response from given list of key words from template in system prompt Template\n",
    "key_list=[\"Hook\", \"Intro\", \"Explanation\", \"Application\", \"Closing\", \"Action\", \"Engagement\"]\n",
    "def extract_tweet(openai_tweet: str, key_list: list) -> dict:\n",
    "    \"\"\"Creates dictionary from Openai response using keyword template\n",
    "\n",
    "    Parameters:\n",
    "        - openai_tweet: \n",
    "        - key_list: list key words used for searching reponse template\n",
    "\n",
    "    Returns:\n",
    "        - dictionary: templated tweet\n",
    "    \"\"\"\n",
    "    template = {}\n",
    "    # Iterate through key list\n",
    "    for i, key in enumerate(key_list):\n",
    "        # find starting position\n",
    "        start = openai_tweet.find(key_list[i])+len(key_list[i])+2\n",
    "        if i != len(key_list) - 1:\n",
    "            # using ending position, subset str and append to template\n",
    "            end = openai_tweet.find(key_list[i+1])\n",
    "            line = openai_tweet[start:end]\n",
    "            template[key_list[i]] = line\n",
    "        else:\n",
    "            # if final word in list, only subsection by start word\n",
    "            template[key_list[i]] = openai_tweet[start:]\n",
    "    return template"
   ]
  },
  {
   "cell_type": "markdown",
   "id": "61453d0d-6f7b-4044-9a58-d14b6436fca9",
   "metadata": {},
   "source": [
    "## Long Response"
   ]
  },
  {
   "cell_type": "code",
   "execution_count": 36,
   "id": "aea93379-daaf-4da4-9a58-d34b6fbcdd18",
   "metadata": {},
   "outputs": [
    {
     "data": {
      "text/plain": [
       "{'Hook': 'Unveiling the Magic of Compounding: Time Value of Money - Unlocking the Secrets to Financial Growth!\\n\\n',\n",
       " 'Intro': 'The Time Value of Money is the financial concept that reveals the true power of compounding, allowing your money to work for you over time.\\n\\n',\n",
       " 'Explanation': 'At its core, the Time Value of Money recognizes that a dollar today is worth more than a dollar in the future due to the potential to earn interest or returns. By understanding this concept, you can make informed decisions about investing, borrowing, and saving.\\n\\n',\n",
       " 'Application': 'This concept is the backbone of many financial calculations, such as calculating the present value of future cash flows, determining loan payments, and evaluating investment opportunities. It helps investors assess the profitability of their investments and guides individuals in making smart financial choices.\\n\\n',\n",
       " 'Closing': 'Embracing the Time Value of Money is like having a superpower in the world of finance. It empowers you to make strategic decisions that can lead to long-term wealth accumulation.\\n\\n',\n",
       " 'Action': 'Start harnessing the power of compounding by investing early and consistently. Time is your greatest ally in growing your wealth.\\n\\n',\n",
       " 'Engagement': 'What are some creative ways you can apply the Time Value of Money in your personal finance journey? #TimeValueOfMoney #Compounding'}"
      ]
     },
     "execution_count": 36,
     "metadata": {},
     "output_type": "execute_result"
    }
   ],
   "source": [
    "extract_tweet(first_response, key_list)"
   ]
  },
  {
   "cell_type": "markdown",
   "id": "5c395b77-1cbe-4d50-a5c9-b4142447e850",
   "metadata": {},
   "source": [
    "## Short Response"
   ]
  },
  {
   "cell_type": "code",
   "execution_count": 37,
   "id": "2bc4f946-ed5d-4ff0-bc71-0e7693af4aed",
   "metadata": {},
   "outputs": [
    {
     "data": {
      "text/plain": [
       "{'Hook': 'Unveiling the Magic of Compounding: Time Value of Money - Financial Growth Unlocked!\\n\\n',\n",
       " 'Intro': \"Time Value of Money: Your money's potential to grow over time.\\n\\n\",\n",
       " 'Explanation': 'A dollar today is worth more than a dollar in the future due to compounding.\\n\\n',\n",
       " 'Application': 'Guides financial decisions, like investments, loans, and savings, for long-term wealth accumulation.\\n\\n',\n",
       " 'Closing': 'Time Value of Money is your superpower in finance, empowering strategic decision-making.\\n\\n',\n",
       " 'Action': 'Invest early and consistently to harness the power of compounding.\\n\\n',\n",
       " 'Engagement': 'How can you creatively apply Time Value of Money in your personal finance journey? #TimeValueOfMoney #Compounding'}"
      ]
     },
     "execution_count": 37,
     "metadata": {},
     "output_type": "execute_result"
    }
   ],
   "source": [
    "extract_tweet(short_response, key_list)"
   ]
  },
  {
   "cell_type": "markdown",
   "id": "f21a3b45-0648-47bf-bf1d-005dd98c4848",
   "metadata": {},
   "source": [
    "## Preprocessing content-ideas from text file\n",
    "\n",
    "Take text file in table structure from GPT and process it by line divisors (|).\n",
    "Then create dicitonary and store in desired format back to text file.\n",
    "\n",
    "An example of the table structure is below.\n",
    "\n",
    "| Number | Topic                          | Title                                                         |\n",
    "| --- | --- | --- |\n",
    "| 1      | Time Value of Money            | \"Unveiling the Magic of Compounding: Time Value of Money\"    |\n",
    "| 2      | Risk and Return                | \"Playing the Odds: Understanding Risk and Return\"            |\n",
    "| 3      | Modern Portfolio Theory        | \"Crafting the Perfect Portfolio: An Intro to MPT\"            |\n"
   ]
  },
  {
   "cell_type": "code",
   "execution_count": 42,
   "id": "22fa0e02-9408-48b2-8900-3742efa28b1c",
   "metadata": {},
   "outputs": [
    {
     "name": "stdout",
     "output_type": "stream",
     "text": [
      "1_Time Value of Money_Unveiling the Magic of Compounding: Time Value of Money\n",
      "2_Risk and Return_Playing the Odds: Understanding Risk and Return\n",
      "3_Modern Portfolio Theory_Crafting the Perfect Portfolio: An Intro to MPT\n",
      "4_Black-Scholes Model_The Black-Scholes Legacy: Revolutionizing Option Pricing\n",
      "5_Multifactor Models_Beyond Beta: Exploring Multifactor Models\n",
      "6_Copula Models_Bridging Dependencies: An Insight into Copula Models\n",
      "7_Stochastic Calculus_The Dance of Chance: Delving into Stochastic Calculus\n",
      "8_Ito's Lemma_Ito's Insight: Unpacking Ito's Lemma\n",
      "9_Quantitative Risk Management_Taming Uncertainty: Quantitative Risk Management Essentials\n",
      "10_Simple Moving Average Strategy_Smooth Moves: SMA Trading Strategy Explained\n",
      "11_Backtesting_Rewinding The Market: The Art of Backtesting\n",
      "12_Transaction Costs and Slippage_The Hidden Costs: Navigating Transaction Costs and Slippage\n",
      "13_Portfolio Optimization_Balancing Act: Portfolio Optimization Techniques\n",
      "14_QuantLib Introduction_Toolkit Talk: A Dive into QuantLib\n",
      "15_Implementing Monte Carlo Simulations_Rolling the Dice: Monte Carlo Simulations in Trading\n",
      "16_Time Series Analysis_Decoding Time: An Adventure into Time Series Analysis\n",
      "17_Machine Learning in Finance_The Finance Algorithm: Machine Learning's Role\n",
      "18_Cryptocurrency Quant Strategies_Crypto Conundrums: Quant Strategies in Cryptocurrency Markets\n",
      "19_High-frequency Trading Strategies_Milliseconds to Millions: High-frequency Trading Strategies\n",
      "20_Market Anomalies Analysis_Bizarre Bazaars: Analyzing Market Anomalies\n",
      "21_Financial Crises Analysis_Crash Course: Analyzing Major Financial Crises\n",
      "22_Strategies of Quant Hedge Funds_Quantum Leaps: Strategies of Top Quant Hedge Funds\n",
      "23_Zipline Library Introduction_Zipping Through Data: An Introduction to Zipline Library\n",
      "24_Backtrader Library Introduction_Trade the Code: Getting Started with Backtrader\n",
      "25_Statsmodels Library Introduction_Modeling Market Mysteries with Statsmodels\n",
      "26_Interest Rate Models_Rate of Change: Diving into Interest Rate Models\n",
      "27_Credit Risk Models_Credit Where It's Due: Unveiling Credit Risk Models\n",
      "28_Derivative Pricing_Price Tag on Risk: The World of Derivative Pricing\n",
      "29_Option Pricing_Options Unveiled: The Pricing Paradigm\n",
      "30_Volatility Forecasting_Predicting Pandemonium: Volatility Forecasting Techniques\n",
      "31_Arbitrage Pricing Theory_Free Lunch? Unpacking Arbitrage Pricing Theory\n",
      "32_Behavioral Finance_Mind Over Markets: A Look into Behavioral Finance\n",
      "33_Equity Quant Strategies_Stocks and Quants: Equity Quantitative Strategies\n",
      "34_Fixed Income Quant Strategies_Bonding with Quant: Fixed Income Quantitative Strategies\n",
      "35_Commodities Quant Strategies_Golden Opportunities: Commodities Quantitative Strategies\n",
      "36_Forex Quant Strategies_Currency Code: Forex Quantitative Strategies\n",
      "37_Asset Allocation Strategies_The Allocation Equation: Asset Allocation Strategies\n",
      "38_Liquidity Risk Management_Liquid or Illiquid? Navigating Liquidity Risk\n",
      "39_Performance Measurement_Measuring Mastery: Performance Measurement in Quant Finance\n",
      "40_Hedge Fund Structure and Strategies_Hedge Fund Hierarchy: Structure and Strategies Uncovered\n",
      "41_Asset Pricing Models_Valuing Varieties: A Look at Asset Pricing Models\n",
      "42_Market Microstructure_Market Mosaic: Delving into Market Microstructure\n",
      "43_Algorithmic Trading Risks_Algo Angst: Navigating Risks in Algorithmic Trading\n",
      "44_Regulatory Environment_Rulebook of the Ruled: Understanding Financial Regulation\n",
      "45_Portfolio Performance Analysis_Portfolio's Proof: Delving into Performance Analysis\n",
      "46_Value at Risk (VaR)_VaR's Vantage: Unpacking Value at Risk\n",
      "47_Stress Testing_Financial Fitness: The Essence of Stress Testing\n",
      "48_Exotic Options Pricing_Beyond Vanilla: Pricing Exotic Options\n",
      "49_Sentiment Analysis in Finance_Feel the Market's Pulse: Sentiment Analysis Unveiled\n",
      "50_Systematic Trading Strategies_Systematic Success: Exploring Systematic Trading Strategies\n",
      "51_Trading Psychology_Mind over Markets: Unpacking Trading Psychology\n",
      "52_Alternative Data in Finance_Alt Data Alchemy: The New Gold in Finance\n",
      "53_ETF Trading Strategies_ETF Expeditions: Unveiling Trading Strategies\n",
      "54_Quantitative Model Validation_Model Marvel or Mirage: The Art of Quant Model Validation\n",
      "55_Factor Investing_Factor Feast: Diving into Factor Investing\n",
      "56_Futures and Forwards_Future-Forward Finance: Exploring Futures and Forwards\n",
      "57_Swap Contracts_Switcheroo: Unraveling Swap Contracts\n",
      "58_Risk Parity Strategies_Balancing Act: Delving into Risk Parity Strategies\n",
      "59_Technical Analysis_Charting the Course: Technical Analysis Techniques\n",
      "60_Event-Driven Trading Strategies_Eventful Earnings: Mastering Event-Driven Trading Strategies\n",
      "61_Fundamental Analysis_Beyond Numbers: The Essence of Fundamental Analysis\n",
      "62_Statistical Arbitrage_Statistical Stakes: A Dive into Statistical Arbitrage\n",
      "63_Portfolio Construction_Building Financial Fortresses: Portfolio Construction Essentials\n",
      "64_High-Frequency Trading Technology_Speed Demons: Tech Behind High-Frequency Trading\n",
      "65_Momentum Trading Strategies_Momentum Mysteries: Unveiling Momentum Trading Strategies\n",
      "66_Market Making Strategies_Market Maestro: Mastering Market Making Strategies\n",
      "67_Pairs Trading_Twins of Trade: Pairs Trading Explained\n",
      "68_Machine Learning Algorithm Tuning_Tuning the Financial Tune: ML Algorithm Tuning in Finance\n",
      "69_Neural Networks in Finance_Financial Foresight: Neural Networks in Action\n",
      "70_Reinforcement Learning in Trading_Rewarding Routines: Reinforcement Learning in Trading\n",
      "71_Blockchain Technology_Block by Block: Unpacking Blockchain Technology\n",
      "72_Smart Contracts_Contractual Clarity: Delving into Smart Contracts\n",
      "73_Quantitative Easing Impact_Easing into Economics: Impact of Quantitative Easing\n",
      "74_Inflation Hedging Strategies_Inflation Insulation: Hedging Strategies Explored\n",
      "75_Central Bank Policies_Banking on Policy: Unpacking Central Bank Moves\n",
      "76_Financial Data Cleaning and Processing_Data Detox: Cleaning and Processing Financial Data\n",
      "77_Quantitative Finance Career Paths_Quant Quest: Exploring Career Paths in Quantitative Finance\n",
      "78_Real-world Quantitative Finance Projects_From Theory to Thriving: Real-world Quant Projects\n",
      "79_Financial Ethics and Compliance_Ethical Earnings: Finance Ethics and Compliance\n",
      "80_Trading Platform Development_Platform Power-play: Developing Your Trading Platform\n",
      "81_Python Libraries for Finance_Library Lore: Python Libraries Every Quant Should Know\n",
      "82_Order Book Dynamics_Booked on Books: Understanding Order Book Dynamics\n",
      "83_Derivatives Hedging Strategies_Derivative Defenses: Mastering Hedging Strategies\n",
      "84_Quantitative Finance Interviews Prep_Quant Quizzing: Acing Quantitative Finance Interviews\n",
      "85_Financial Networks Analysis_Network of Net-worth: Unveiling Financial Networks\n",
      "86_Market Impact Models_Impactful Insights: Delving into Market Impact Models\n",
      "87_Trading Signal Generation_Signal Success: Generating and Evaluating Trading Signals\n",
      "88_Latency in Trading Systems_Latent Lessons: The Role of Latency in Trading Systems\n",
      "89_Market Anomalies Exploitation_Anomalous Achievements: Exploiting Market Anomalies\n",
      "90_Trading System Evaluation_Systematic Scrutiny: Evaluating Trading Systems\n",
      "91_Credit Derivatives_Credit Chronicles: An Overview of Credit Derivatives\n",
      "92_Sentiment-Driven Trading Strategies_Sentimental Journeys: Trading on Market Mood\n",
      "93_Survival Analysis in Finance_Survival of the Fittest: Applying Survival Analysis\n",
      "94_Seasonality Effects in Markets_Seasonal Strategies: Navigating Market Seasonality\n",
      "95_Liquidity Provision Strategies_Liquid Logic: Mastering Liquidity Provision Strategies\n",
      "96_Game Theory in Finance_Financial Foresight: Game Theory in Action\n",
      "97_Real Estate Quantitative Analysis_Realty Reality: Quantitative Analysis in Real Estate\n",
      "98_Trading Infrastructure Development_Infrastucture Insights: Building Robust Trading Systems\n",
      "99_Financial Data Visualization_Visual Wealth: Financial Data Visualization Techniques\n",
      "100_High-Frequency Trading_The Need for Speed: Inside High-Frequency Trading\n"
     ]
    }
   ],
   "source": [
    "file = open(RAW_TEXT_FILE, \"r\")\n",
    "quant_tweets = {}\n",
    "\n",
    "for line_no, line in enumerate(file.readlines()):\n",
    "    # start 2nd row to avoid heading and underlines\n",
    "    if line_no > 1:\n",
    "        # split on line divisors\n",
    "        items = line.split('|')\n",
    "        # capture and ensure int and str formatting\n",
    "        tweet_no = int(items[1])\n",
    "        quant_topic = items[2].strip()\n",
    "        quant_title = items[3].strip().strip('\"')\n",
    "        # store within dict\n",
    "        quant_tweets[tweet_no] = {}\n",
    "        quant_tweets[tweet_no]['topic'] = quant_topic\n",
    "        quant_tweets[tweet_no]['title'] = quant_title\n",
    "        # print tweet no, topic and title\n",
    "        print(f\"{tweet_no}_{quant_topic}_{quant_title}\")\n",
    "file.close()\n",
    "\n",
    "# storing in desired format\n",
    "# could directly place processed data location here: TEXT_FILE instead of 'quants_tweets.txt'\n",
    "with open('quants_tweets.txt', 'w') as f:\n",
    "    for tweet_no, tweet_info in quant_tweets.items():\n",
    "        #Attaching 3 flags at the end which are currently all False\n",
    "        tweet_repr = str(tweet_no)+'|'+tweet_info['topic']+'|'+tweet_info['title']+'|FALSE|FALSE|FALSE|\\n'\n",
    "        f.write(tweet_repr)"
   ]
  },
  {
   "cell_type": "markdown",
   "id": "4a960f4a-6773-49f1-b579-88db5ec9bea3",
   "metadata": {},
   "source": [
    "## Twitter File\n",
    "\n",
    "We will use a dataclasses to:\n",
    "1. store Tweets,\n",
    "2. track Track, and\n",
    "3. manage a TweetQueue"
   ]
  },
  {
   "cell_type": "code",
   "execution_count": 44,
   "id": "6459a9f0-36f9-47a5-b686-fc32c017d37e",
   "metadata": {},
   "outputs": [],
   "source": [
    "from enum import Flag, auto\n",
    "from json import dumps, loads\n",
    "from dataclasses import dataclass, asdict, field\n",
    "\n",
    "\n",
    "class Boolean(Flag):\n",
    "    TRUE = True\n",
    "    FALSE = False\n",
    "\n",
    "\n",
    "class TweetType(Flag):\n",
    "    SINGLE = auto()\n",
    "    THREAD = auto()\n",
    "\n",
    "\n",
    "@dataclass\n",
    "class Tweet:\n",
    "    Hook: str\n",
    "    Intro: str\n",
    "    Explanation: str\n",
    "    Application: str\n",
    "    Closing: str\n",
    "    Action: str\n",
    "    Engagement: str\n",
    "\n",
    "    @classmethod\n",
    "    def from_dict(cls, tweet_d: dict):\n",
    "        # return class\n",
    "        return cls(\n",
    "            Hook=tweet_d[\"Hook\"],\n",
    "            Intro=tweet_d[\"Intro\"],\n",
    "            Explanation=tweet_d[\"Explanation\"],\n",
    "            Application=tweet_d[\"Application\"],\n",
    "            Closing=tweet_d[\"Closing\"],\n",
    "            Action=tweet_d[\"Action\"],\n",
    "            Engagement=tweet_d[\"Engagement\"],\n",
    "        )\n",
    "\n",
    "    def to_text(self):\n",
    "        _spaced_response = f\"{self.Hook}\\n{self.Intro}\\n{self.Explanation}\\n{self.Application}\\n{self.Closing}\\n{self.Action}\\n{self.Engagement}\"\n",
    "        if len(_spaced_response) > 280:\n",
    "            return f\"{self.Hook}{self.Intro}{self.Explanation}{self.Application}{self.Closing}{self.Action}{self.Engagement}\"\n",
    "        else:\n",
    "            return _spaced_response\n",
    "\n",
    "\n",
    "@dataclass\n",
    "class TrackTweet:\n",
    "    \"\"\"Class for keeping track of Tweets\"\"\"\n",
    "\n",
    "    id: int\n",
    "    topic: str\n",
    "    title: str\n",
    "    sent_status: Boolean = Boolean.FALSE\n",
    "    gen_status: Boolean = Boolean.FALSE\n",
    "    tweet: Tweet = field(init=False, repr=False)\n",
    "\n",
    "    def __lt__(self, other):\n",
    "        return (self.sent_status.value, self.id) < (other.sent_status.value, other.id)\n",
    "\n",
    "    @classmethod\n",
    "    def from_str(cls, tweet_line: str):\n",
    "        # underscores used to indicate unpacked variables, only used internally\n",
    "        (\n",
    "            _id,\n",
    "            _topic,\n",
    "            _title,\n",
    "            _sent_status,\n",
    "            _gen_status,\n",
    "            _tweet,\n",
    "            _next_line,\n",
    "        ) = tweet_line.split(\"|\")\n",
    "        # convert status TRUE/FALSE to Enum Representation\n",
    "        _sent_status_bool = (\n",
    "            Boolean.TRUE if _sent_status == Boolean.TRUE.name else Boolean.FALSE\n",
    "        )\n",
    "        # confirm if tweet already written or not, if so load previously written tweet\n",
    "        _gen_status_bool = (\n",
    "            Boolean.TRUE if _gen_status == Boolean.TRUE.name else Boolean.FALSE\n",
    "        )\n",
    "        # init class without tweet\n",
    "        _trackTweet = cls(\n",
    "            id=int(_id),\n",
    "            topic=_topic,\n",
    "            title=_title,\n",
    "            sent_status=_sent_status_bool,\n",
    "            gen_status=_gen_status_bool,\n",
    "        )\n",
    "\n",
    "        if _gen_status_bool:\n",
    "            # return class with written tweet\n",
    "            _trackTweet.tweet = Tweet.from_dict(loads(_tweet))\n",
    "\n",
    "        return _trackTweet\n",
    "\n",
    "    def to_str(self):\n",
    "        _part_1 = f\"{self.id}|{self.topic}|{self.title}|{self.sent_status.name}|{self.gen_status.name}|\"\n",
    "        _part_2 = (\n",
    "            f\"{dumps(asdict(self.tweet)) if hasattr(self, 'tweet') else 'FALSE'}|\\n\"\n",
    "        )\n",
    "        return _part_1 + _part_2\n",
    "\n",
    "    def update_status(self, new_status: Boolean):\n",
    "        self.sent_status = new_status\n",
    "\n",
    "\n",
    "@dataclass\n",
    "class TweetQueue:\n",
    "    tweets: list[TrackTweet] = field(default_factory=list)\n",
    "\n",
    "    def __len__(self):\n",
    "        return len(self.tweets)\n",
    "\n",
    "    def __iter__(self):\n",
    "        yield from self.tweets\n",
    "\n",
    "    @property\n",
    "    def tweets_not_sent(self):\n",
    "        return [tweet for tweet in self.tweets if not tweet.sent_status]\n",
    "\n",
    "    @property\n",
    "    def tweets_not_generated(self):\n",
    "        return [tweet for tweet in self.tweets if not tweet.gen_status]\n",
    "\n",
    "    @property\n",
    "    def tweets_ready_for_sending(self):\n",
    "        return [\n",
    "            tweet for tweet in self.tweets if tweet.gen_status and not tweet.sent_status\n",
    "        ]\n",
    "\n",
    "    def enqueue(self, tweet):\n",
    "        # print(f\"{tweet.to_str()} will be added.\")\n",
    "        self.tweets.append(tweet)\n",
    "\n",
    "    def dequeue(self):\n",
    "        # print(f\"{self.tweets[0].to_str()} will be removed.\")\n",
    "        return self.tweets.popleft()\n",
    "\n",
    "    @classmethod\n",
    "    def from_text_file(cls, text_file):\n",
    "        _tweets = cls()\n",
    "        for tweet_line in open(text_file, \"r\"):\n",
    "            tweet = TrackTweet.from_str(tweet_line)\n",
    "            _tweets.enqueue(tweet)\n",
    "        return _tweets\n",
    "\n",
    "    def to_text_file(self, text_file):\n",
    "        with open(text_file, \"w\") as f:\n",
    "            for tweet in self.tweets:\n",
    "                tweet_line = tweet.to_str()\n",
    "                f.write(tweet_line)\n"
   ]
  },
  {
   "cell_type": "markdown",
   "id": "66c528ba-4d34-4274-bbbe-0b3e27b1f859",
   "metadata": {},
   "source": [
    "## Use Tweet Classes\n",
    "\n",
    "Let's read in tweet Queue from processed data file.\n",
    "\n",
    "We will use the iterator we contructed to immediately loop through tweets class attribute"
   ]
  },
  {
   "cell_type": "code",
   "execution_count": 48,
   "id": "628c9d73-6ea5-4494-bceb-1584561cb085",
   "metadata": {},
   "outputs": [
    {
     "name": "stdout",
     "output_type": "stream",
     "text": [
      "TrackTweet(id=1, topic='Time Value of Money', title='Unveiling the Magic of Compounding: Time Value of Money', sent_status=<Boolean.TRUE: True>, gen_status=<Boolean.TRUE: True>)\n"
     ]
    }
   ],
   "source": [
    "tweetQueue = TweetQueue.from_text_file(TEXT_FILE)\n",
    "for tweet in tweetQueue:\n",
    "    print(tweet)\n",
    "    break"
   ]
  },
  {
   "cell_type": "markdown",
   "id": "938bc593-aa6a-46a5-be77-8842ff17970d",
   "metadata": {},
   "source": [
    "## Generate Tweets from Data\n",
    "\n",
    "Putting it all togetehr, let's use the property of our TweetQueue to get latest non generated tweet.\n",
    "\n",
    "Let's pass the topic and title to our generate response function and extract the tweet to dictionary"
   ]
  },
  {
   "cell_type": "code",
   "execution_count": 50,
   "id": "72e535f4-39ee-4b2f-a735-683602555341",
   "metadata": {},
   "outputs": [
    {
     "data": {
      "text/plain": [
       "{'Hook': '\"Order Book Dynamics: Where the battle of buyers and sellers unfolds, revealing the true market sentiment.\"\\n\\n',\n",
       " 'Intro': 'Order Book Dynamics refers to the continuous interplay between buy and sell orders in a financial market, providing valuable insights into market depth and liquidity.\\n\\n',\n",
       " 'Explanation': 'The order book is a real-time record of all pending buy and sell orders for a particular asset. It displays the quantity and price at which market participants are willing to buy or sell. As orders are executed, the order book dynamically adjusts, reflecting changes in supply and demand.\\n\\n',\n",
       " 'Application': 'Understanding order book dynamics is crucial for market participants, including traders, market makers, and algorithmic trading systems. By analyzing the order book, traders can identify support and resistance levels, gauge market sentiment, and make informed trading decisions. Market makers utilize order book dynamics to provide liquidity and manage their inventory. Algorithmic trading systems leverage order book dynamics to execute trades based on predefined strategies.\\n\\n',\n",
       " 'Closing': 'Order book dynamics is the heartbeat of the market, revealing the ebb and flow of supply and demand.\\n\\n',\n",
       " 'Action': 'Dive into the fascinating world of order book dynamics and unlock the secrets of market sentiment.\\n\\n',\n",
       " 'Engagement': 'How do you use order book dynamics in your trading strategy? #OrderBookDynamics #QuantFinance'}"
      ]
     },
     "execution_count": 50,
     "metadata": {},
     "output_type": "execute_result"
    }
   ],
   "source": [
    "quant_tweet_idea = tweetQueue.tweets_not_generated[0]\n",
    "first_response, short_response = generate_response(llm, quant_topic=quant_tweet_idea.topic, quant_title=quant_tweet_idea.title)\n",
    "first_draft = extract_tweet(first_response, key_list)\n",
    "first_draft"
   ]
  },
  {
   "cell_type": "markdown",
   "id": "d4eaa8ee-f1d9-4f37-8c2a-a8014b1a13d4",
   "metadata": {},
   "source": [
    "We can then pass the dictionary to create a Tweet Object"
   ]
  },
  {
   "cell_type": "code",
   "execution_count": 52,
   "id": "1d9404c9-559b-4a91-9dfb-b2af7c8655c2",
   "metadata": {},
   "outputs": [
    {
     "data": {
      "text/plain": [
       "Tweet(Hook='\"Order Book Dynamics: Where the battle of buyers and sellers unfolds, revealing the true market sentiment.\"\\n\\n', Intro='Order Book Dynamics refers to the continuous interplay between buy and sell orders in a financial market, providing valuable insights into market depth and liquidity.\\n\\n', Explanation='The order book is a real-time record of all pending buy and sell orders for a particular asset. It displays the quantity and price at which market participants are willing to buy or sell. As orders are executed, the order book dynamically adjusts, reflecting changes in supply and demand.\\n\\n', Application='Understanding order book dynamics is crucial for market participants, including traders, market makers, and algorithmic trading systems. By analyzing the order book, traders can identify support and resistance levels, gauge market sentiment, and make informed trading decisions. Market makers utilize order book dynamics to provide liquidity and manage their inventory. Algorithmic trading systems leverage order book dynamics to execute trades based on predefined strategies.\\n\\n', Closing='Order book dynamics is the heartbeat of the market, revealing the ebb and flow of supply and demand.\\n\\n', Action='Dive into the fascinating world of order book dynamics and unlock the secrets of market sentiment.\\n\\n', Engagement='How do you use order book dynamics in your trading strategy? #OrderBookDynamics #QuantFinance')"
      ]
     },
     "execution_count": 52,
     "metadata": {},
     "output_type": "execute_result"
    }
   ],
   "source": [
    "Tweet.from_dict(first_draft)"
   ]
  }
 ],
 "metadata": {
  "kernelspec": {
   "display_name": "Python 3 (ipykernel)",
   "language": "python",
   "name": "python3"
  },
  "language_info": {
   "codemirror_mode": {
    "name": "ipython",
    "version": 3
   },
   "file_extension": ".py",
   "mimetype": "text/x-python",
   "name": "python",
   "nbconvert_exporter": "python",
   "pygments_lexer": "ipython3",
   "version": "3.11.4"
  }
 },
 "nbformat": 4,
 "nbformat_minor": 5
}
