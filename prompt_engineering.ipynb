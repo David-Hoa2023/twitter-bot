{
 "cells": [
  {
   "cell_type": "markdown",
   "id": "1d37d6de-cbd0-4fe4-98f1-a8c41113bb84",
   "metadata": {},
   "source": [
    "## Prompt Engineering"
   ]
  },
  {
   "cell_type": "code",
   "execution_count": 232,
   "id": "896cab48-886e-4724-864d-6600e5d99cff",
   "metadata": {},
   "outputs": [],
   "source": [
    "from langchain.chat_models import ChatOpenAI\n",
    "from langchain.prompts import ChatPromptTemplate, PromptTemplate, SystemMessagePromptTemplate, AIMessagePromptTemplate, HumanMessagePromptTemplate\n",
    "from dotenv import load_dotenv\n",
    "import os\n",
    "import re\n",
    "\n",
    "load_dotenv()\n",
    "\n",
    "OPENAI_API_KEY = os.getenv(\"OPENAI_API_KEY\")"
   ]
  },
  {
   "cell_type": "code",
   "execution_count": 233,
   "id": "91098cf3-ed6c-4ab0-8e69-e7e300622c4a",
   "metadata": {},
   "outputs": [],
   "source": [
    "llm = ChatOpenAI(temperature=0.3,\n",
    "                 openai_api_key=OPENAI_API_KEY,\n",
    "                 model_name='gpt-3.5-turbo-0613',\n",
    "                )"
   ]
  },
  {
   "cell_type": "code",
   "execution_count": 264,
   "id": "0011dbdb-1c38-4416-bec8-f57a5e017e9b",
   "metadata": {},
   "outputs": [],
   "source": [
    "def generate_response(llm: ChatOpenAI, quant_topic: str, quant_title: str) -> tuple[str,str]:\n",
    "    \"\"\"Generate AI Twitter Content for QuantPy Media Channels\n",
    "\n",
    "    Parameters:\n",
    "        - llm:  pre-trained ChatOpenAi large language model\n",
    "        - quant_topic: Topic in Quant Finance\n",
    "        - quant_topic: Topic in Quant Finance\n",
    "\n",
    "    Returns:\n",
    "        - tuple[long response,short reposonse]: Chat GPT long and short responses\n",
    "    \"\"\"\n",
    "    # System Template for LLM to follow\n",
    "    system_template = \"\"\"\n",
    "        You are an incredibly wise and smart quantitative analyst that lives and breathes the world of quantitative finance.\n",
    "        Your goal is to writing short-form content for twitter given a `topic` in the area of quantitative finance and a `title` from the user.\n",
    "        \n",
    "        % RESPONSE TONE:\n",
    "\n",
    "        - Your response should be given in an active voice and be opinionated\n",
    "        - Your tone should be serious w/ a hint of wit and sarcasm\n",
    "        \n",
    "        % RESPONSE FORMAT:\n",
    "        \n",
    "        - Be extremely clear and concise\n",
    "        - Respond in short phrases\n",
    "        - No longer than 30 words total for entire reponse template\n",
    "        - Make phrases no longer than 7 words in total.\n",
    "        - No longer than total of 280 characters (counting spaces and other characters)\n",
    "        - Do not respond with emojis\n",
    "        \n",
    "        % RESPONSE CONTENT:\n",
    "\n",
    "        - Include specific examples of where this is used in the quantitative finance space\n",
    "        - If you don't have an answer, say, \"Sorry, I'll have to ask the Quant Finance Gods!\"    \n",
    "\n",
    "        % RESPONSE TEMPLATE:\n",
    "\n",
    "        - Here’s a condensed structure tailored for Twitter's 280-character limit: \n",
    "            Hook: Captivate with a one-liner.\n",
    "            Intro: Briefly introduce the topic.\n",
    "            Explanation: Simplify the core idea.\n",
    "            Application: Note real-world relevance.\n",
    "            Closing: Reflective one-liner.\n",
    "            Action: Short engagement call.\n",
    "            Engagement: Quick question.\n",
    "    \n",
    "    \"\"\"\n",
    "    system_message_prompt = SystemMessagePromptTemplate.from_template(system_template)\n",
    "    # human template for input\n",
    "    human_template=\"topic to write about is {topic}, and the title will be {title}. Keep the total response under 30 words total! respond in short phrases, only one sentence maximium per line no more than 6 words\"\n",
    "    human_message_prompt = HumanMessagePromptTemplate.from_template(human_template, \n",
    "                                                                    input_variables=[\"topic\", \"title\"])\n",
    "\n",
    "    chat_prompt = ChatPromptTemplate.from_messages([system_message_prompt, \n",
    "                                                    human_message_prompt])\n",
    "\n",
    "    # get a chat completion from the formatted messages\n",
    "    final_prompt = chat_prompt.format_prompt(topic=quant_topic, \n",
    "                                             title=quant_title).to_messages()\n",
    "    first_response = llm(final_prompt).content\n",
    "\n",
    "    ai_message_prompt = AIMessagePromptTemplate.from_template(first_response)\n",
    "\n",
    "    # reminder of length\n",
    "    reminder_template=\"This was good, but way too long, please make your response much more concise and much shorter! Make phrases no longer than 5 words in total. Please maintain the existing template.\"\n",
    "    reminder_prompt = HumanMessagePromptTemplate.from_template(reminder_template)\n",
    "\n",
    "    chat_prompt2 = ChatPromptTemplate.from_messages([system_message_prompt, \n",
    "                                                     human_template, \n",
    "                                                     ai_message_prompt, \n",
    "                                                     reminder_prompt])\n",
    "\n",
    "    # get a chat completion from the formatted messages\n",
    "    final_prompt = chat_prompt2.format_prompt(topic=quant_topic, \n",
    "                                              title=quant_title).to_messages()\n",
    "    short_response = llm(final_prompt).content\n",
    "\n",
    "    return first_response, short_response"
   ]
  },
  {
   "cell_type": "code",
   "execution_count": 265,
   "id": "db0bbe9b-2446-48ab-a0f6-b5a3f7632886",
   "metadata": {},
   "outputs": [],
   "source": [
    "first_response, short_response = generate_response(llm, quant_topic='Time Value of Money', quant_title='Unveiling the Magic of Compounding: Time Value of Money')"
   ]
  },
  {
   "cell_type": "code",
   "execution_count": 266,
   "id": "29cc4abd-8773-4ab9-8dee-7829c936ea91",
   "metadata": {},
   "outputs": [],
   "source": [
    "count_length = lambda d: sum(len(d[val]) for val in d)\n",
    "count_words = lambda d: sum(len(re.findall(r'\\w+', d[val])) for val in d)\n",
    "key_list=[\"Hook\", \"Intro\", \"Explanation\", \"Application\", \"Closing\", \"Action\", \"Engagement\"]\n",
    "def extract_tweet(openai_tweet: str, key_list: list) -> dict:\n",
    "    \"\"\"Creates dictionary from Openai response using keyword template\n",
    "\n",
    "    Parameters:\n",
    "        - openai_tweet: \n",
    "        - key_list: list key words used for searching reponse template\n",
    "\n",
    "    Returns:\n",
    "        - dictionary: templated tweet\n",
    "    \"\"\"\n",
    "    template = {}\n",
    "    # Iterate through key list\n",
    "    for i, key in enumerate(key_list):\n",
    "        # find starting position\n",
    "        start = openai_tweet.find(key_list[i])+len(key_list[i])+2\n",
    "        if i != len(key_list) - 1:\n",
    "            # using ending position, subset str and append to template\n",
    "            end = openai_tweet.find(key_list[i+1])\n",
    "            line = openai_tweet[start:end]\n",
    "            template[key_list[i]] = line\n",
    "        else:\n",
    "            # if final word in list, only subsection by start word\n",
    "            template[key_list[i]] = openai_tweet[start:]\n",
    "    return template"
   ]
  },
  {
   "cell_type": "code",
   "execution_count": 270,
   "id": "aea93379-daaf-4da4-9a58-d34b6fbcdd18",
   "metadata": {},
   "outputs": [
    {
     "data": {
      "text/plain": [
       "{'Hook': 'Discover the enchanting power of compounding!\\n',\n",
       " 'Intro': 'Unveiling the Magic of Compounding: Time Value of Money.\\n',\n",
       " 'Explanation': 'Money today is worth more than money tomorrow due to the potential to earn interest or returns.\\n',\n",
       " 'Application': 'Used in investing, loans, and financial planning to determine the present and future value of cash flows.\\n',\n",
       " 'Closing': 'Watch your money grow and multiply!\\n',\n",
       " 'Action': \"Start investing and harness compounding's power.\\n\",\n",
       " 'Engagement': 'How do you make the most of compounding?'}"
      ]
     },
     "execution_count": 270,
     "metadata": {},
     "output_type": "execute_result"
    }
   ],
   "source": [
    "extract_tweet(first_response, key_list)"
   ]
  },
  {
   "cell_type": "code",
   "execution_count": 269,
   "id": "2bc4f946-ed5d-4ff0-bc71-0e7693af4aed",
   "metadata": {},
   "outputs": [
    {
     "data": {
      "text/plain": [
       "{'Hook': 'Unveil the magic of compounding!\\n',\n",
       " 'Intro': 'Time Value of Money.\\n',\n",
       " 'Explanation': 'Money today is worth more.\\n',\n",
       " 'Application': 'Investing, loans, financial planning.\\n',\n",
       " 'Closing': 'Watch your money multiply!\\n',\n",
       " 'Action': \"Start harnessing compounding's power.\\n\",\n",
       " 'Engagement': 'How to maximize compounding?'}"
      ]
     },
     "execution_count": 269,
     "metadata": {},
     "output_type": "execute_result"
    }
   ],
   "source": [
    "extract_tweet(short_response, key_list)"
   ]
  },
  {
   "cell_type": "markdown",
   "id": "f21a3b45-0648-47bf-bf1d-005dd98c4848",
   "metadata": {},
   "source": [
    "## Preprocessing content-ideas\n",
    "\n",
    "Take text file in table structure from GPT and process it by line divisors.\n",
    "Then create dicitonary and store in desired format back to text file."
   ]
  },
  {
   "cell_type": "code",
   "execution_count": 271,
   "id": "22fa0e02-9408-48b2-8900-3742efa28b1c",
   "metadata": {},
   "outputs": [
    {
     "name": "stdout",
     "output_type": "stream",
     "text": [
      "1_Time Value of Money_Unveiling the Magic of Compounding: Time Value of Money\n",
      "2_Risk and Return_Playing the Odds: Understanding Risk and Return\n",
      "3_Modern Portfolio Theory_Crafting the Perfect Portfolio: An Intro to MPT\n",
      "4_Black-Scholes Model_The Black-Scholes Legacy: Revolutionizing Option Pricing\n",
      "5_Multifactor Models_Beyond Beta: Exploring Multifactor Models\n",
      "6_Copula Models_Bridging Dependencies: An Insight into Copula Models\n",
      "7_Stochastic Calculus_The Dance of Chance: Delving into Stochastic Calculus\n",
      "8_Ito's Lemma_Ito's Insight: Unpacking Ito's Lemma\n",
      "9_Quantitative Risk Management_Taming Uncertainty: Quantitative Risk Management Essentials\n",
      "10_Simple Moving Average Strategy_Smooth Moves: SMA Trading Strategy Explained\n",
      "11_Backtesting_Rewinding The Market: The Art of Backtesting\n",
      "12_Transaction Costs and Slippage_The Hidden Costs: Navigating Transaction Costs and Slippage\n",
      "13_Portfolio Optimization_Balancing Act: Portfolio Optimization Techniques\n",
      "14_QuantLib Introduction_Toolkit Talk: A Dive into QuantLib\n",
      "15_Implementing Monte Carlo Simulations_Rolling the Dice: Monte Carlo Simulations in Trading\n",
      "16_Time Series Analysis_Decoding Time: An Adventure into Time Series Analysis\n",
      "17_Machine Learning in Finance_The Finance Algorithm: Machine Learning's Role\n",
      "18_Cryptocurrency Quant Strategies_Crypto Conundrums: Quant Strategies in Cryptocurrency Markets\n",
      "19_High-frequency Trading Strategies_Milliseconds to Millions: High-frequency Trading Strategies\n",
      "20_Market Anomalies Analysis_Bizarre Bazaars: Analyzing Market Anomalies\n",
      "21_Financial Crises Analysis_Crash Course: Analyzing Major Financial Crises\n",
      "22_Strategies of Quant Hedge Funds_Quantum Leaps: Strategies of Top Quant Hedge Funds\n",
      "23_Zipline Library Introduction_Zipping Through Data: An Introduction to Zipline Library\n",
      "24_Backtrader Library Introduction_Trade the Code: Getting Started with Backtrader\n",
      "25_Statsmodels Library Introduction_Modeling Market Mysteries with Statsmodels\n",
      "26_Interest Rate Models_Rate of Change: Diving into Interest Rate Models\n",
      "27_Credit Risk Models_Credit Where It's Due: Unveiling Credit Risk Models\n",
      "28_Derivative Pricing_Price Tag on Risk: The World of Derivative Pricing\n",
      "29_Option Pricing_Options Unveiled: The Pricing Paradigm\n",
      "30_Volatility Forecasting_Predicting Pandemonium: Volatility Forecasting Techniques\n",
      "31_Arbitrage Pricing Theory_Free Lunch? Unpacking Arbitrage Pricing Theory\n",
      "32_Behavioral Finance_Mind Over Markets: A Look into Behavioral Finance\n",
      "33_Equity Quant Strategies_Stocks and Quants: Equity Quantitative Strategies\n",
      "34_Fixed Income Quant Strategies_Bonding with Quant: Fixed Income Quantitative Strategies\n",
      "35_Commodities Quant Strategies_Golden Opportunities: Commodities Quantitative Strategies\n",
      "36_Forex Quant Strategies_Currency Code: Forex Quantitative Strategies\n",
      "37_Asset Allocation Strategies_The Allocation Equation: Asset Allocation Strategies\n",
      "38_Liquidity Risk Management_Liquid or Illiquid? Navigating Liquidity Risk\n",
      "39_Performance Measurement_Measuring Mastery: Performance Measurement in Quant Finance\n",
      "40_Hedge Fund Structure and Strategies_Hedge Fund Hierarchy: Structure and Strategies Uncovered\n",
      "41_Asset Pricing Models_Valuing Varieties: A Look at Asset Pricing Models\n",
      "42_Market Microstructure_Market Mosaic: Delving into Market Microstructure\n",
      "43_Algorithmic Trading Risks_Algo Angst: Navigating Risks in Algorithmic Trading\n",
      "44_Regulatory Environment_Rulebook of the Ruled: Understanding Financial Regulation\n",
      "45_Portfolio Performance Analysis_Portfolio's Proof: Delving into Performance Analysis\n",
      "46_Value at Risk (VaR)_VaR's Vantage: Unpacking Value at Risk\n",
      "47_Stress Testing_Financial Fitness: The Essence of Stress Testing\n",
      "48_Exotic Options Pricing_Beyond Vanilla: Pricing Exotic Options\n",
      "49_Sentiment Analysis in Finance_Feel the Market's Pulse: Sentiment Analysis Unveiled\n",
      "50_Systematic Trading Strategies_Systematic Success: Exploring Systematic Trading Strategies\n",
      "51_Trading Psychology_Mind over Markets: Unpacking Trading Psychology\n",
      "52_Alternative Data in Finance_Alt Data Alchemy: The New Gold in Finance\n",
      "53_ETF Trading Strategies_ETF Expeditions: Unveiling Trading Strategies\n",
      "54_Quantitative Model Validation_Model Marvel or Mirage: The Art of Quant Model Validation\n",
      "55_Factor Investing_Factor Feast: Diving into Factor Investing\n",
      "56_Futures and Forwards_Future-Forward Finance: Exploring Futures and Forwards\n",
      "57_Swap Contracts_Switcheroo: Unraveling Swap Contracts\n",
      "58_Risk Parity Strategies_Balancing Act: Delving into Risk Parity Strategies\n",
      "59_Technical Analysis_Charting the Course: Technical Analysis Techniques\n",
      "60_Event-Driven Trading Strategies_Eventful Earnings: Mastering Event-Driven Trading Strategies\n",
      "61_Fundamental Analysis_Beyond Numbers: The Essence of Fundamental Analysis\n",
      "62_Statistical Arbitrage_Statistical Stakes: A Dive into Statistical Arbitrage\n",
      "63_Portfolio Construction_Building Financial Fortresses: Portfolio Construction Essentials\n",
      "64_High-Frequency Trading Technology_Speed Demons: Tech Behind High-Frequency Trading\n",
      "65_Momentum Trading Strategies_Momentum Mysteries: Unveiling Momentum Trading Strategies\n",
      "66_Market Making Strategies_Market Maestro: Mastering Market Making Strategies\n",
      "67_Pairs Trading_Twins of Trade: Pairs Trading Explained\n",
      "68_Machine Learning Algorithm Tuning_Tuning the Financial Tune: ML Algorithm Tuning in Finance\n",
      "69_Neural Networks in Finance_Financial Foresight: Neural Networks in Action\n",
      "70_Reinforcement Learning in Trading_Rewarding Routines: Reinforcement Learning in Trading\n",
      "71_Blockchain Technology_Block by Block: Unpacking Blockchain Technology\n",
      "72_Smart Contracts_Contractual Clarity: Delving into Smart Contracts\n",
      "73_Quantitative Easing Impact_Easing into Economics: Impact of Quantitative Easing\n",
      "74_Inflation Hedging Strategies_Inflation Insulation: Hedging Strategies Explored\n",
      "75_Central Bank Policies_Banking on Policy: Unpacking Central Bank Moves\n",
      "76_Financial Data Cleaning and Processing_Data Detox: Cleaning and Processing Financial Data\n",
      "77_Quantitative Finance Career Paths_Quant Quest: Exploring Career Paths in Quantitative Finance\n",
      "78_Real-world Quantitative Finance Projects_From Theory to Thriving: Real-world Quant Projects\n",
      "79_Financial Ethics and Compliance_Ethical Earnings: Finance Ethics and Compliance\n",
      "80_Trading Platform Development_Platform Power-play: Developing Your Trading Platform\n",
      "81_Python Libraries for Finance_Library Lore: Python Libraries Every Quant Should Know\n",
      "82_Order Book Dynamics_Booked on Books: Understanding Order Book Dynamics\n",
      "83_Derivatives Hedging Strategies_Derivative Defenses: Mastering Hedging Strategies\n",
      "84_Quantitative Finance Interviews Prep_Quant Quizzing: Acing Quantitative Finance Interviews\n",
      "85_Financial Networks Analysis_Network of Net-worth: Unveiling Financial Networks\n",
      "86_Market Impact Models_Impactful Insights: Delving into Market Impact Models\n",
      "87_Trading Signal Generation_Signal Success: Generating and Evaluating Trading Signals\n",
      "88_Latency in Trading Systems_Latent Lessons: The Role of Latency in Trading Systems\n",
      "89_Market Anomalies Exploitation_Anomalous Achievements: Exploiting Market Anomalies\n",
      "90_Trading System Evaluation_Systematic Scrutiny: Evaluating Trading Systems\n",
      "91_Credit Derivatives_Credit Chronicles: An Overview of Credit Derivatives\n",
      "92_Sentiment-Driven Trading Strategies_Sentimental Journeys: Trading on Market Mood\n",
      "93_Survival Analysis in Finance_Survival of the Fittest: Applying Survival Analysis\n",
      "94_Seasonality Effects in Markets_Seasonal Strategies: Navigating Market Seasonality\n",
      "95_Liquidity Provision Strategies_Liquid Logic: Mastering Liquidity Provision Strategies\n",
      "96_Game Theory in Finance_Financial Foresight: Game Theory in Action\n",
      "97_Real Estate Quantitative Analysis_Realty Reality: Quantitative Analysis in Real Estate\n",
      "98_Trading Infrastructure Development_Infrastucture Insights: Building Robust Trading Systems\n",
      "99_Financial Data Visualization_Visual Wealth: Financial Data Visualization Techniques\n",
      "100_High-Frequency Trading_The Need for Speed: Inside High-Frequency Trading\n"
     ]
    }
   ],
   "source": [
    "file = open(\"content-ideas.txt\", \"r\")\n",
    "quant_tweets = {}\n",
    "\n",
    "for line_no, line in enumerate(file.readlines()):\n",
    "    # start 2nd row to avoid heading and underlines\n",
    "    if line_no > 1:\n",
    "        # split on line divisors\n",
    "        items = line.split('|')\n",
    "        # capture and ensure int and str formatting\n",
    "        tweet_no = int(items[1])\n",
    "        quant_topic = items[2].strip()\n",
    "        quant_title = items[3].strip().strip('\"')\n",
    "        # store within dict\n",
    "        quant_tweets[tweet_no] = {}\n",
    "        quant_tweets[tweet_no]['topic'] = quant_topic\n",
    "        quant_tweets[tweet_no]['title'] = quant_title\n",
    "        # print tweet no, topic and title\n",
    "        print(f\"{tweet_no}_{quant_topic}_{quant_title}\")\n",
    "file.close()\n",
    "\n",
    "# storing in desired format\n",
    "with open('quants_tweets.txt', 'w') as f:\n",
    "    for tweet_no, tweet_info in quant_tweets.items():\n",
    "        tweet_repr = str(tweet_no)+'|'+tweet_info['topic']+'|'+tweet_info['title']+'|FALSE|FALSE|FALSE|\\n'\n",
    "        f.write(tweet_repr)"
   ]
  },
  {
   "cell_type": "code",
   "execution_count": 354,
   "id": "6459a9f0-36f9-47a5-b686-fc32c017d37e",
   "metadata": {},
   "outputs": [],
   "source": [
    "import time\n",
    "from enum import Flag\n",
    "from copy import deepcopy\n",
    "from json import dumps, loads\n",
    "from collections import deque\n",
    "from dataclasses import dataclass, asdict, field\n",
    "\n",
    "class Boolean(Flag):\n",
    "    TRUE = True\n",
    "    FALSE = False\n",
    "\n",
    "@dataclass\n",
    "class Tweet:\n",
    "    Hook: str\n",
    "    Intro: str\n",
    "    Explanation: str\n",
    "    Application: str\n",
    "    Closing: str\n",
    "    Action: str\n",
    "    Engagement: str\n",
    "\n",
    "    @classmethod\n",
    "    def from_dict(cls, tweet_d: dict):\n",
    "        # return class\n",
    "        return cls(\n",
    "            Hook=tweet_d['Hook'],\n",
    "            Intro=tweet_d['Intro'],\n",
    "            Explanation=tweet_d['Explanation'],\n",
    "            Application=tweet_d['Application'],\n",
    "            Closing=tweet_d['Closing'],\n",
    "            Action=tweet_d['Action'],\n",
    "            Engagement=tweet_d['Engagement']\n",
    "        )\n",
    "\n",
    "@dataclass\n",
    "class TrackTweet:\n",
    "    \"\"\"Class for keeping track of Tweets\"\"\"\n",
    "    id: int\n",
    "    topic: str\n",
    "    title: str\n",
    "    sent_status: Boolean = Boolean.FALSE\n",
    "    gen_status: Boolean = Boolean.FALSE\n",
    "    tweet: Tweet = field(init=False, repr=False)\n",
    "\n",
    "    def __lt__(self, other):\n",
    "        return (\n",
    "            self.sent_status.value, self.id\n",
    "        ) < (\n",
    "            other.sent_status.value, other.id\n",
    "        )\n",
    "\n",
    "    @classmethod\n",
    "    def from_str(cls, tweet_line: str):\n",
    "        # underscores used to indicate unpacked variables, only used internally\n",
    "        _id, _topic, _title, _sent_status, _gen_status, _tweet, _next_line = tweet_line.split('|')\n",
    "        # convert status TRUE/FALSE to Enum Representation\n",
    "        _sent_status_bool=Boolean.TRUE if _sent_status == Boolean.TRUE.name else Boolean.FALSE\n",
    "        # confirm if tweet already written or not, if so load previously written tweet\n",
    "        _gen_status_bool=Boolean.TRUE if _gen_status == Boolean.TRUE.name else Boolean.FALSE\n",
    "        # init class without tweet\n",
    "        _trackTweet = cls(\n",
    "                id=int(_id),\n",
    "                topic=_topic,\n",
    "                title=_title,\n",
    "                sent_status=_sent_status_bool,\n",
    "                gen_status=_gen_status_bool\n",
    "            )\n",
    "        \n",
    "        if _gen_status_bool:\n",
    "            # return class with written tweet\n",
    "            _trackTweet.tweet=Tweet.from_dict(loads(_tweet))\n",
    "\n",
    "        return _trackTweet\n",
    "\n",
    "    def to_str(self):\n",
    "        _part_1 = f\"{self.id}|{self.topic}|{self.title}|{self.sent_status.name}|{self.gen_status.name}|\"\n",
    "        _part_2 = f\"{dumps(asdict(self.tweet)) if hasattr(self, 'tweet') else 'FALSE'}|\\n\"\n",
    "        return _part_1 + _part_2\n",
    "\n",
    "    def update_status(self, new_status: Boolean):\n",
    "        self.sent_status = new_status\n",
    "    \n",
    "@dataclass\n",
    "class TweetQueue:\n",
    "    tweets: list[TrackTweet] = field(default_factory=list)\n",
    "\n",
    "    def __len__(self):\n",
    "        return len(self.tweets)\n",
    "\n",
    "    def __iter__(self):\n",
    "        yield from self.tweets\n",
    "\n",
    "    @property\n",
    "    def tweets_not_sent(self):\n",
    "        return [tweet for tweet in self.tweets if not tweet.sent_status]\n",
    "\n",
    "    @property\n",
    "    def tweets_not_generated(self):\n",
    "        return [tweet for tweet in self.tweets if not tweet.gen_status]\n",
    "\n",
    "    def enqueue(self, tweet):\n",
    "        # print(f\"{tweet.to_str()} will be added.\")\n",
    "        self.tweets.append(tweet)\n",
    "\n",
    "    def dequeue(self):\n",
    "        # print(f\"{self.tweets[0].to_str()} will be removed.\")\n",
    "        return self.tweets.popleft()\n",
    "        \n",
    "    @classmethod\n",
    "    def from_text_file(cls, text_file):\n",
    "        _tweets = cls()\n",
    "        for tweet_line in open(text_file, 'r'):\n",
    "            tweet = TrackTweet.from_str(tweet_line)\n",
    "            _tweets.enqueue(tweet)\n",
    "        return _tweets\n",
    "\n",
    "    def to_text_file(self, text_file):\n",
    "        with open(text_file, 'w') as f:\n",
    "            for tweet in self.tweets:\n",
    "                tweet_line = tweet.to_str()\n",
    "                f.write(tweet_line)\n",
    "        "
   ]
  },
  {
   "cell_type": "code",
   "execution_count": 360,
   "id": "7c3dbab4-ecb9-459c-8308-e58d45202f97",
   "metadata": {},
   "outputs": [
    {
     "name": "stderr",
     "output_type": "stream",
     "text": [
      "This is a debug message\n"
     ]
    }
   ],
   "source": [
    "# set up logger\n",
    "\n",
    "import logging\n",
    "\n",
    "# Get logger\n",
    "logger = logging.getLogger(\"my logger\")\n",
    "\n",
    "# Create a handler\n",
    "c_handler = logging.StreamHandler()\n",
    "\n",
    "# link handler to logger\n",
    "logger.addHandler(c_handler)\n",
    "\n",
    "# Set logging level to the logger\n",
    "logger.setLevel(logging.DEBUG) # <-- THIS!\n",
    "\n",
    "# test\n",
    "logger.debug('This is a debug message') # WILL WORK"
   ]
  },
  {
   "cell_type": "code",
   "execution_count": 367,
   "id": "c4473d0c-e6f4-4447-98ed-ac1dea234bbd",
   "metadata": {},
   "outputs": [
    {
     "name": "stderr",
     "output_type": "stream",
     "text": [
      "This will get logged to a file\n",
      "This will get logged to a file\n",
      "This will get logged to a file\n",
      "This will get logged to a file\n",
      "This will get logged to a file\n",
      "This will get logged to a file\n",
      "This will get logged to a file\n",
      "This will get logged to a file\n",
      "This will get logged to a file\n"
     ]
    }
   ],
   "source": [
    "import logging\n",
    "\n",
    "# Get logger\n",
    "logger = logging.getLogger(\"twitter-bot\")\n",
    "# define a Handler which writes INFO messages or higher to the sys.stderr\n",
    "console = logging.StreamHandler()\n",
    "# add the handler to the root logger\n",
    "logger.addHandler(console)\n",
    "# set up logging to file\n",
    "logging.basicConfig(level=logging.DEBUG,\n",
    "                    format='%(asctime)s %(name)-12s %(levelname)-8s %(message)s',\n",
    "                    datefmt='%y-%m-%d %H:%M',\n",
    "                    filename='twitter-bot.log',\n",
    "                    filemode='w')\n",
    "\n",
    "logger.setLevel(logging.DEBUG)\n",
    "\n",
    "\n",
    "# logging.basicConfig(filename='app.log', filemode='w', format='%(asctime)s - %(levelname)s - %(message)s', level=logging.DEBUG)\n",
    "logger.info('This will get logged to a file')\n",
    "\n",
    "## First step is to import file of topics and ides into TweetQueue\n",
    "tweetQueue = TweetQueue.from_text_file('quants_tweets.txt')\n",
    "# tweetQueue"
   ]
  },
  {
   "cell_type": "code",
   "execution_count": 359,
   "id": "90086f3b-fca9-465e-9a0c-ba109cb8235a",
   "metadata": {},
   "outputs": [
    {
     "ename": "KeyboardInterrupt",
     "evalue": "",
     "output_type": "error",
     "traceback": [
      "\u001b[0;31m---------------------------------------------------------------------------\u001b[0m",
      "\u001b[0;31mKeyboardInterrupt\u001b[0m                         Traceback (most recent call last)",
      "Cell \u001b[0;32mIn[359], line 4\u001b[0m\n\u001b[1;32m      2\u001b[0m logging\u001b[38;5;241m.\u001b[39minfo(\u001b[38;5;241m5\u001b[39m\u001b[38;5;241m*\u001b[39m\u001b[38;5;124m'\u001b[39m\u001b[38;5;124m*\u001b[39m\u001b[38;5;124m'\u001b[39m\u001b[38;5;241m+\u001b[39m\u001b[38;5;124m'\u001b[39m\u001b[38;5;124mTweet to Gen\u001b[39m\u001b[38;5;124m'\u001b[39m\u001b[38;5;241m+\u001b[39m\u001b[38;5;241m5\u001b[39m\u001b[38;5;241m*\u001b[39m\u001b[38;5;124m'\u001b[39m\u001b[38;5;124m*\u001b[39m\u001b[38;5;124m'\u001b[39m)\n\u001b[1;32m      3\u001b[0m logging\u001b[38;5;241m.\u001b[39minfo(quant_tweet_idea)\n\u001b[0;32m----> 4\u001b[0m first_response, short_response \u001b[38;5;241m=\u001b[39m \u001b[43mgenerate_response\u001b[49m\u001b[43m(\u001b[49m\u001b[43mllm\u001b[49m\u001b[43m,\u001b[49m\u001b[43m \u001b[49m\u001b[43mquant_topic\u001b[49m\u001b[38;5;241;43m=\u001b[39;49m\u001b[43mquant_tweet_idea\u001b[49m\u001b[38;5;241;43m.\u001b[39;49m\u001b[43mtopic\u001b[49m\u001b[43m,\u001b[49m\u001b[43m \u001b[49m\u001b[43mquant_title\u001b[49m\u001b[38;5;241;43m=\u001b[39;49m\u001b[43mquant_tweet_idea\u001b[49m\u001b[38;5;241;43m.\u001b[39;49m\u001b[43mtitle\u001b[49m\u001b[43m)\u001b[49m\n\u001b[1;32m      5\u001b[0m logging\u001b[38;5;241m.\u001b[39minfo(\u001b[38;5;241m5\u001b[39m\u001b[38;5;241m*\u001b[39m\u001b[38;5;124m'\u001b[39m\u001b[38;5;124m*\u001b[39m\u001b[38;5;124m'\u001b[39m\u001b[38;5;241m+\u001b[39m\u001b[38;5;124m'\u001b[39m\u001b[38;5;124mFirst Draft\u001b[39m\u001b[38;5;124m'\u001b[39m\u001b[38;5;241m+\u001b[39m\u001b[38;5;241m5\u001b[39m\u001b[38;5;241m*\u001b[39m\u001b[38;5;124m'\u001b[39m\u001b[38;5;124m*\u001b[39m\u001b[38;5;124m'\u001b[39m)\n\u001b[1;32m      6\u001b[0m first_draft \u001b[38;5;241m=\u001b[39m extract_tweet(first_response, key_list)\n",
      "Cell \u001b[0;32mIn[264], line 60\u001b[0m, in \u001b[0;36mgenerate_response\u001b[0;34m(llm, quant_topic, quant_title)\u001b[0m\n\u001b[1;32m     57\u001b[0m \u001b[38;5;66;03m# get a chat completion from the formatted messages\u001b[39;00m\n\u001b[1;32m     58\u001b[0m final_prompt \u001b[38;5;241m=\u001b[39m chat_prompt\u001b[38;5;241m.\u001b[39mformat_prompt(topic\u001b[38;5;241m=\u001b[39mquant_topic, \n\u001b[1;32m     59\u001b[0m                                          title\u001b[38;5;241m=\u001b[39mquant_title)\u001b[38;5;241m.\u001b[39mto_messages()\n\u001b[0;32m---> 60\u001b[0m first_response \u001b[38;5;241m=\u001b[39m \u001b[43mllm\u001b[49m\u001b[43m(\u001b[49m\u001b[43mfinal_prompt\u001b[49m\u001b[43m)\u001b[49m\u001b[38;5;241m.\u001b[39mcontent\n\u001b[1;32m     62\u001b[0m ai_message_prompt \u001b[38;5;241m=\u001b[39m AIMessagePromptTemplate\u001b[38;5;241m.\u001b[39mfrom_template(first_response)\n\u001b[1;32m     64\u001b[0m \u001b[38;5;66;03m# reminder of length\u001b[39;00m\n",
      "File \u001b[0;32m~/Documents/dev/quantpy-twitter-bot/env/lib/python3.11/site-packages/langchain/chat_models/base.py:600\u001b[0m, in \u001b[0;36mBaseChatModel.__call__\u001b[0;34m(self, messages, stop, callbacks, **kwargs)\u001b[0m\n\u001b[1;32m    593\u001b[0m \u001b[38;5;28;01mdef\u001b[39;00m \u001b[38;5;21m__call__\u001b[39m(\n\u001b[1;32m    594\u001b[0m     \u001b[38;5;28mself\u001b[39m,\n\u001b[1;32m    595\u001b[0m     messages: List[BaseMessage],\n\u001b[0;32m   (...)\u001b[0m\n\u001b[1;32m    598\u001b[0m     \u001b[38;5;241m*\u001b[39m\u001b[38;5;241m*\u001b[39mkwargs: Any,\n\u001b[1;32m    599\u001b[0m ) \u001b[38;5;241m-\u001b[39m\u001b[38;5;241m>\u001b[39m BaseMessage:\n\u001b[0;32m--> 600\u001b[0m     generation \u001b[38;5;241m=\u001b[39m \u001b[38;5;28;43mself\u001b[39;49m\u001b[38;5;241;43m.\u001b[39;49m\u001b[43mgenerate\u001b[49m\u001b[43m(\u001b[49m\n\u001b[1;32m    601\u001b[0m \u001b[43m        \u001b[49m\u001b[43m[\u001b[49m\u001b[43mmessages\u001b[49m\u001b[43m]\u001b[49m\u001b[43m,\u001b[49m\u001b[43m \u001b[49m\u001b[43mstop\u001b[49m\u001b[38;5;241;43m=\u001b[39;49m\u001b[43mstop\u001b[49m\u001b[43m,\u001b[49m\u001b[43m \u001b[49m\u001b[43mcallbacks\u001b[49m\u001b[38;5;241;43m=\u001b[39;49m\u001b[43mcallbacks\u001b[49m\u001b[43m,\u001b[49m\u001b[43m \u001b[49m\u001b[38;5;241;43m*\u001b[39;49m\u001b[38;5;241;43m*\u001b[39;49m\u001b[43mkwargs\u001b[49m\n\u001b[1;32m    602\u001b[0m \u001b[43m    \u001b[49m\u001b[43m)\u001b[49m\u001b[38;5;241m.\u001b[39mgenerations[\u001b[38;5;241m0\u001b[39m][\u001b[38;5;241m0\u001b[39m]\n\u001b[1;32m    603\u001b[0m     \u001b[38;5;28;01mif\u001b[39;00m \u001b[38;5;28misinstance\u001b[39m(generation, ChatGeneration):\n\u001b[1;32m    604\u001b[0m         \u001b[38;5;28;01mreturn\u001b[39;00m generation\u001b[38;5;241m.\u001b[39mmessage\n",
      "File \u001b[0;32m~/Documents/dev/quantpy-twitter-bot/env/lib/python3.11/site-packages/langchain/chat_models/base.py:349\u001b[0m, in \u001b[0;36mBaseChatModel.generate\u001b[0;34m(self, messages, stop, callbacks, tags, metadata, run_name, **kwargs)\u001b[0m\n\u001b[1;32m    347\u001b[0m         \u001b[38;5;28;01mif\u001b[39;00m run_managers:\n\u001b[1;32m    348\u001b[0m             run_managers[i]\u001b[38;5;241m.\u001b[39mon_llm_error(e)\n\u001b[0;32m--> 349\u001b[0m         \u001b[38;5;28;01mraise\u001b[39;00m e\n\u001b[1;32m    350\u001b[0m flattened_outputs \u001b[38;5;241m=\u001b[39m [\n\u001b[1;32m    351\u001b[0m     LLMResult(generations\u001b[38;5;241m=\u001b[39m[res\u001b[38;5;241m.\u001b[39mgenerations], llm_output\u001b[38;5;241m=\u001b[39mres\u001b[38;5;241m.\u001b[39mllm_output)\n\u001b[1;32m    352\u001b[0m     \u001b[38;5;28;01mfor\u001b[39;00m res \u001b[38;5;129;01min\u001b[39;00m results\n\u001b[1;32m    353\u001b[0m ]\n\u001b[1;32m    354\u001b[0m llm_output \u001b[38;5;241m=\u001b[39m \u001b[38;5;28mself\u001b[39m\u001b[38;5;241m.\u001b[39m_combine_llm_outputs([res\u001b[38;5;241m.\u001b[39mllm_output \u001b[38;5;28;01mfor\u001b[39;00m res \u001b[38;5;129;01min\u001b[39;00m results])\n",
      "File \u001b[0;32m~/Documents/dev/quantpy-twitter-bot/env/lib/python3.11/site-packages/langchain/chat_models/base.py:339\u001b[0m, in \u001b[0;36mBaseChatModel.generate\u001b[0;34m(self, messages, stop, callbacks, tags, metadata, run_name, **kwargs)\u001b[0m\n\u001b[1;32m    336\u001b[0m \u001b[38;5;28;01mfor\u001b[39;00m i, m \u001b[38;5;129;01min\u001b[39;00m \u001b[38;5;28menumerate\u001b[39m(messages):\n\u001b[1;32m    337\u001b[0m     \u001b[38;5;28;01mtry\u001b[39;00m:\n\u001b[1;32m    338\u001b[0m         results\u001b[38;5;241m.\u001b[39mappend(\n\u001b[0;32m--> 339\u001b[0m             \u001b[38;5;28;43mself\u001b[39;49m\u001b[38;5;241;43m.\u001b[39;49m\u001b[43m_generate_with_cache\u001b[49m\u001b[43m(\u001b[49m\n\u001b[1;32m    340\u001b[0m \u001b[43m                \u001b[49m\u001b[43mm\u001b[49m\u001b[43m,\u001b[49m\n\u001b[1;32m    341\u001b[0m \u001b[43m                \u001b[49m\u001b[43mstop\u001b[49m\u001b[38;5;241;43m=\u001b[39;49m\u001b[43mstop\u001b[49m\u001b[43m,\u001b[49m\n\u001b[1;32m    342\u001b[0m \u001b[43m                \u001b[49m\u001b[43mrun_manager\u001b[49m\u001b[38;5;241;43m=\u001b[39;49m\u001b[43mrun_managers\u001b[49m\u001b[43m[\u001b[49m\u001b[43mi\u001b[49m\u001b[43m]\u001b[49m\u001b[43m \u001b[49m\u001b[38;5;28;43;01mif\u001b[39;49;00m\u001b[43m \u001b[49m\u001b[43mrun_managers\u001b[49m\u001b[43m \u001b[49m\u001b[38;5;28;43;01melse\u001b[39;49;00m\u001b[43m \u001b[49m\u001b[38;5;28;43;01mNone\u001b[39;49;00m\u001b[43m,\u001b[49m\n\u001b[1;32m    343\u001b[0m \u001b[43m                \u001b[49m\u001b[38;5;241;43m*\u001b[39;49m\u001b[38;5;241;43m*\u001b[39;49m\u001b[43mkwargs\u001b[49m\u001b[43m,\u001b[49m\n\u001b[1;32m    344\u001b[0m \u001b[43m            \u001b[49m\u001b[43m)\u001b[49m\n\u001b[1;32m    345\u001b[0m         )\n\u001b[1;32m    346\u001b[0m     \u001b[38;5;28;01mexcept\u001b[39;00m \u001b[38;5;167;01mBaseException\u001b[39;00m \u001b[38;5;28;01mas\u001b[39;00m e:\n\u001b[1;32m    347\u001b[0m         \u001b[38;5;28;01mif\u001b[39;00m run_managers:\n",
      "File \u001b[0;32m~/Documents/dev/quantpy-twitter-bot/env/lib/python3.11/site-packages/langchain/chat_models/base.py:492\u001b[0m, in \u001b[0;36mBaseChatModel._generate_with_cache\u001b[0;34m(self, messages, stop, run_manager, **kwargs)\u001b[0m\n\u001b[1;32m    488\u001b[0m     \u001b[38;5;28;01mraise\u001b[39;00m \u001b[38;5;167;01mValueError\u001b[39;00m(\n\u001b[1;32m    489\u001b[0m         \u001b[38;5;124m\"\u001b[39m\u001b[38;5;124mAsked to cache, but no cache found at `langchain.cache`.\u001b[39m\u001b[38;5;124m\"\u001b[39m\n\u001b[1;32m    490\u001b[0m     )\n\u001b[1;32m    491\u001b[0m \u001b[38;5;28;01mif\u001b[39;00m new_arg_supported:\n\u001b[0;32m--> 492\u001b[0m     \u001b[38;5;28;01mreturn\u001b[39;00m \u001b[38;5;28;43mself\u001b[39;49m\u001b[38;5;241;43m.\u001b[39;49m\u001b[43m_generate\u001b[49m\u001b[43m(\u001b[49m\n\u001b[1;32m    493\u001b[0m \u001b[43m        \u001b[49m\u001b[43mmessages\u001b[49m\u001b[43m,\u001b[49m\u001b[43m \u001b[49m\u001b[43mstop\u001b[49m\u001b[38;5;241;43m=\u001b[39;49m\u001b[43mstop\u001b[49m\u001b[43m,\u001b[49m\u001b[43m \u001b[49m\u001b[43mrun_manager\u001b[49m\u001b[38;5;241;43m=\u001b[39;49m\u001b[43mrun_manager\u001b[49m\u001b[43m,\u001b[49m\u001b[43m \u001b[49m\u001b[38;5;241;43m*\u001b[39;49m\u001b[38;5;241;43m*\u001b[39;49m\u001b[43mkwargs\u001b[49m\n\u001b[1;32m    494\u001b[0m \u001b[43m    \u001b[49m\u001b[43m)\u001b[49m\n\u001b[1;32m    495\u001b[0m \u001b[38;5;28;01melse\u001b[39;00m:\n\u001b[1;32m    496\u001b[0m     \u001b[38;5;28;01mreturn\u001b[39;00m \u001b[38;5;28mself\u001b[39m\u001b[38;5;241m.\u001b[39m_generate(messages, stop\u001b[38;5;241m=\u001b[39mstop, \u001b[38;5;241m*\u001b[39m\u001b[38;5;241m*\u001b[39mkwargs)\n",
      "File \u001b[0;32m~/Documents/dev/quantpy-twitter-bot/env/lib/python3.11/site-packages/langchain/chat_models/openai.py:360\u001b[0m, in \u001b[0;36mChatOpenAI._generate\u001b[0;34m(self, messages, stop, run_manager, stream, **kwargs)\u001b[0m\n\u001b[1;32m    358\u001b[0m message_dicts, params \u001b[38;5;241m=\u001b[39m \u001b[38;5;28mself\u001b[39m\u001b[38;5;241m.\u001b[39m_create_message_dicts(messages, stop)\n\u001b[1;32m    359\u001b[0m params \u001b[38;5;241m=\u001b[39m {\u001b[38;5;241m*\u001b[39m\u001b[38;5;241m*\u001b[39mparams, \u001b[38;5;241m*\u001b[39m\u001b[38;5;241m*\u001b[39mkwargs}\n\u001b[0;32m--> 360\u001b[0m response \u001b[38;5;241m=\u001b[39m \u001b[38;5;28;43mself\u001b[39;49m\u001b[38;5;241;43m.\u001b[39;49m\u001b[43mcompletion_with_retry\u001b[49m\u001b[43m(\u001b[49m\n\u001b[1;32m    361\u001b[0m \u001b[43m    \u001b[49m\u001b[43mmessages\u001b[49m\u001b[38;5;241;43m=\u001b[39;49m\u001b[43mmessage_dicts\u001b[49m\u001b[43m,\u001b[49m\u001b[43m \u001b[49m\u001b[43mrun_manager\u001b[49m\u001b[38;5;241;43m=\u001b[39;49m\u001b[43mrun_manager\u001b[49m\u001b[43m,\u001b[49m\u001b[43m \u001b[49m\u001b[38;5;241;43m*\u001b[39;49m\u001b[38;5;241;43m*\u001b[39;49m\u001b[43mparams\u001b[49m\n\u001b[1;32m    362\u001b[0m \u001b[43m\u001b[49m\u001b[43m)\u001b[49m\n\u001b[1;32m    363\u001b[0m \u001b[38;5;28;01mreturn\u001b[39;00m \u001b[38;5;28mself\u001b[39m\u001b[38;5;241m.\u001b[39m_create_chat_result(response)\n",
      "File \u001b[0;32m~/Documents/dev/quantpy-twitter-bot/env/lib/python3.11/site-packages/langchain/chat_models/openai.py:299\u001b[0m, in \u001b[0;36mChatOpenAI.completion_with_retry\u001b[0;34m(self, run_manager, **kwargs)\u001b[0m\n\u001b[1;32m    295\u001b[0m \u001b[38;5;129m@retry_decorator\u001b[39m\n\u001b[1;32m    296\u001b[0m \u001b[38;5;28;01mdef\u001b[39;00m \u001b[38;5;21m_completion_with_retry\u001b[39m(\u001b[38;5;241m*\u001b[39m\u001b[38;5;241m*\u001b[39mkwargs: Any) \u001b[38;5;241m-\u001b[39m\u001b[38;5;241m>\u001b[39m Any:\n\u001b[1;32m    297\u001b[0m     \u001b[38;5;28;01mreturn\u001b[39;00m \u001b[38;5;28mself\u001b[39m\u001b[38;5;241m.\u001b[39mclient\u001b[38;5;241m.\u001b[39mcreate(\u001b[38;5;241m*\u001b[39m\u001b[38;5;241m*\u001b[39mkwargs)\n\u001b[0;32m--> 299\u001b[0m \u001b[38;5;28;01mreturn\u001b[39;00m \u001b[43m_completion_with_retry\u001b[49m\u001b[43m(\u001b[49m\u001b[38;5;241;43m*\u001b[39;49m\u001b[38;5;241;43m*\u001b[39;49m\u001b[43mkwargs\u001b[49m\u001b[43m)\u001b[49m\n",
      "File \u001b[0;32m~/Documents/dev/quantpy-twitter-bot/env/lib/python3.11/site-packages/tenacity/__init__.py:289\u001b[0m, in \u001b[0;36mBaseRetrying.wraps.<locals>.wrapped_f\u001b[0;34m(*args, **kw)\u001b[0m\n\u001b[1;32m    287\u001b[0m \u001b[38;5;129m@functools\u001b[39m\u001b[38;5;241m.\u001b[39mwraps(f)\n\u001b[1;32m    288\u001b[0m \u001b[38;5;28;01mdef\u001b[39;00m \u001b[38;5;21mwrapped_f\u001b[39m(\u001b[38;5;241m*\u001b[39margs: t\u001b[38;5;241m.\u001b[39mAny, \u001b[38;5;241m*\u001b[39m\u001b[38;5;241m*\u001b[39mkw: t\u001b[38;5;241m.\u001b[39mAny) \u001b[38;5;241m-\u001b[39m\u001b[38;5;241m>\u001b[39m t\u001b[38;5;241m.\u001b[39mAny:\n\u001b[0;32m--> 289\u001b[0m     \u001b[38;5;28;01mreturn\u001b[39;00m \u001b[38;5;28;43mself\u001b[39;49m\u001b[43m(\u001b[49m\u001b[43mf\u001b[49m\u001b[43m,\u001b[49m\u001b[43m \u001b[49m\u001b[38;5;241;43m*\u001b[39;49m\u001b[43margs\u001b[49m\u001b[43m,\u001b[49m\u001b[43m \u001b[49m\u001b[38;5;241;43m*\u001b[39;49m\u001b[38;5;241;43m*\u001b[39;49m\u001b[43mkw\u001b[49m\u001b[43m)\u001b[49m\n",
      "File \u001b[0;32m~/Documents/dev/quantpy-twitter-bot/env/lib/python3.11/site-packages/tenacity/__init__.py:379\u001b[0m, in \u001b[0;36mRetrying.__call__\u001b[0;34m(self, fn, *args, **kwargs)\u001b[0m\n\u001b[1;32m    377\u001b[0m retry_state \u001b[38;5;241m=\u001b[39m RetryCallState(retry_object\u001b[38;5;241m=\u001b[39m\u001b[38;5;28mself\u001b[39m, fn\u001b[38;5;241m=\u001b[39mfn, args\u001b[38;5;241m=\u001b[39margs, kwargs\u001b[38;5;241m=\u001b[39mkwargs)\n\u001b[1;32m    378\u001b[0m \u001b[38;5;28;01mwhile\u001b[39;00m \u001b[38;5;28;01mTrue\u001b[39;00m:\n\u001b[0;32m--> 379\u001b[0m     do \u001b[38;5;241m=\u001b[39m \u001b[38;5;28;43mself\u001b[39;49m\u001b[38;5;241;43m.\u001b[39;49m\u001b[43miter\u001b[49m\u001b[43m(\u001b[49m\u001b[43mretry_state\u001b[49m\u001b[38;5;241;43m=\u001b[39;49m\u001b[43mretry_state\u001b[49m\u001b[43m)\u001b[49m\n\u001b[1;32m    380\u001b[0m     \u001b[38;5;28;01mif\u001b[39;00m \u001b[38;5;28misinstance\u001b[39m(do, DoAttempt):\n\u001b[1;32m    381\u001b[0m         \u001b[38;5;28;01mtry\u001b[39;00m:\n",
      "File \u001b[0;32m~/Documents/dev/quantpy-twitter-bot/env/lib/python3.11/site-packages/tenacity/__init__.py:314\u001b[0m, in \u001b[0;36mBaseRetrying.iter\u001b[0;34m(self, retry_state)\u001b[0m\n\u001b[1;32m    312\u001b[0m is_explicit_retry \u001b[38;5;241m=\u001b[39m fut\u001b[38;5;241m.\u001b[39mfailed \u001b[38;5;129;01mand\u001b[39;00m \u001b[38;5;28misinstance\u001b[39m(fut\u001b[38;5;241m.\u001b[39mexception(), TryAgain)\n\u001b[1;32m    313\u001b[0m \u001b[38;5;28;01mif\u001b[39;00m \u001b[38;5;129;01mnot\u001b[39;00m (is_explicit_retry \u001b[38;5;129;01mor\u001b[39;00m \u001b[38;5;28mself\u001b[39m\u001b[38;5;241m.\u001b[39mretry(retry_state)):\n\u001b[0;32m--> 314\u001b[0m     \u001b[38;5;28;01mreturn\u001b[39;00m \u001b[43mfut\u001b[49m\u001b[38;5;241;43m.\u001b[39;49m\u001b[43mresult\u001b[49m\u001b[43m(\u001b[49m\u001b[43m)\u001b[49m\n\u001b[1;32m    316\u001b[0m \u001b[38;5;28;01mif\u001b[39;00m \u001b[38;5;28mself\u001b[39m\u001b[38;5;241m.\u001b[39mafter \u001b[38;5;129;01mis\u001b[39;00m \u001b[38;5;129;01mnot\u001b[39;00m \u001b[38;5;28;01mNone\u001b[39;00m:\n\u001b[1;32m    317\u001b[0m     \u001b[38;5;28mself\u001b[39m\u001b[38;5;241m.\u001b[39mafter(retry_state)\n",
      "File \u001b[0;32m~/.pyenv/versions/3.11.4/lib/python3.11/concurrent/futures/_base.py:449\u001b[0m, in \u001b[0;36mFuture.result\u001b[0;34m(self, timeout)\u001b[0m\n\u001b[1;32m    447\u001b[0m     \u001b[38;5;28;01mraise\u001b[39;00m CancelledError()\n\u001b[1;32m    448\u001b[0m \u001b[38;5;28;01melif\u001b[39;00m \u001b[38;5;28mself\u001b[39m\u001b[38;5;241m.\u001b[39m_state \u001b[38;5;241m==\u001b[39m FINISHED:\n\u001b[0;32m--> 449\u001b[0m     \u001b[38;5;28;01mreturn\u001b[39;00m \u001b[38;5;28;43mself\u001b[39;49m\u001b[38;5;241;43m.\u001b[39;49m\u001b[43m__get_result\u001b[49m\u001b[43m(\u001b[49m\u001b[43m)\u001b[49m\n\u001b[1;32m    451\u001b[0m \u001b[38;5;28mself\u001b[39m\u001b[38;5;241m.\u001b[39m_condition\u001b[38;5;241m.\u001b[39mwait(timeout)\n\u001b[1;32m    453\u001b[0m \u001b[38;5;28;01mif\u001b[39;00m \u001b[38;5;28mself\u001b[39m\u001b[38;5;241m.\u001b[39m_state \u001b[38;5;129;01min\u001b[39;00m [CANCELLED, CANCELLED_AND_NOTIFIED]:\n",
      "File \u001b[0;32m~/.pyenv/versions/3.11.4/lib/python3.11/concurrent/futures/_base.py:401\u001b[0m, in \u001b[0;36mFuture.__get_result\u001b[0;34m(self)\u001b[0m\n\u001b[1;32m    399\u001b[0m \u001b[38;5;28;01mif\u001b[39;00m \u001b[38;5;28mself\u001b[39m\u001b[38;5;241m.\u001b[39m_exception:\n\u001b[1;32m    400\u001b[0m     \u001b[38;5;28;01mtry\u001b[39;00m:\n\u001b[0;32m--> 401\u001b[0m         \u001b[38;5;28;01mraise\u001b[39;00m \u001b[38;5;28mself\u001b[39m\u001b[38;5;241m.\u001b[39m_exception\n\u001b[1;32m    402\u001b[0m     \u001b[38;5;28;01mfinally\u001b[39;00m:\n\u001b[1;32m    403\u001b[0m         \u001b[38;5;66;03m# Break a reference cycle with the exception in self._exception\u001b[39;00m\n\u001b[1;32m    404\u001b[0m         \u001b[38;5;28mself\u001b[39m \u001b[38;5;241m=\u001b[39m \u001b[38;5;28;01mNone\u001b[39;00m\n",
      "File \u001b[0;32m~/Documents/dev/quantpy-twitter-bot/env/lib/python3.11/site-packages/tenacity/__init__.py:382\u001b[0m, in \u001b[0;36mRetrying.__call__\u001b[0;34m(self, fn, *args, **kwargs)\u001b[0m\n\u001b[1;32m    380\u001b[0m \u001b[38;5;28;01mif\u001b[39;00m \u001b[38;5;28misinstance\u001b[39m(do, DoAttempt):\n\u001b[1;32m    381\u001b[0m     \u001b[38;5;28;01mtry\u001b[39;00m:\n\u001b[0;32m--> 382\u001b[0m         result \u001b[38;5;241m=\u001b[39m \u001b[43mfn\u001b[49m\u001b[43m(\u001b[49m\u001b[38;5;241;43m*\u001b[39;49m\u001b[43margs\u001b[49m\u001b[43m,\u001b[49m\u001b[43m \u001b[49m\u001b[38;5;241;43m*\u001b[39;49m\u001b[38;5;241;43m*\u001b[39;49m\u001b[43mkwargs\u001b[49m\u001b[43m)\u001b[49m\n\u001b[1;32m    383\u001b[0m     \u001b[38;5;28;01mexcept\u001b[39;00m \u001b[38;5;167;01mBaseException\u001b[39;00m:  \u001b[38;5;66;03m# noqa: B902\u001b[39;00m\n\u001b[1;32m    384\u001b[0m         retry_state\u001b[38;5;241m.\u001b[39mset_exception(sys\u001b[38;5;241m.\u001b[39mexc_info())  \u001b[38;5;66;03m# type: ignore[arg-type]\u001b[39;00m\n",
      "File \u001b[0;32m~/Documents/dev/quantpy-twitter-bot/env/lib/python3.11/site-packages/langchain/chat_models/openai.py:297\u001b[0m, in \u001b[0;36mChatOpenAI.completion_with_retry.<locals>._completion_with_retry\u001b[0;34m(**kwargs)\u001b[0m\n\u001b[1;32m    295\u001b[0m \u001b[38;5;129m@retry_decorator\u001b[39m\n\u001b[1;32m    296\u001b[0m \u001b[38;5;28;01mdef\u001b[39;00m \u001b[38;5;21m_completion_with_retry\u001b[39m(\u001b[38;5;241m*\u001b[39m\u001b[38;5;241m*\u001b[39mkwargs: Any) \u001b[38;5;241m-\u001b[39m\u001b[38;5;241m>\u001b[39m Any:\n\u001b[0;32m--> 297\u001b[0m     \u001b[38;5;28;01mreturn\u001b[39;00m \u001b[38;5;28;43mself\u001b[39;49m\u001b[38;5;241;43m.\u001b[39;49m\u001b[43mclient\u001b[49m\u001b[38;5;241;43m.\u001b[39;49m\u001b[43mcreate\u001b[49m\u001b[43m(\u001b[49m\u001b[38;5;241;43m*\u001b[39;49m\u001b[38;5;241;43m*\u001b[39;49m\u001b[43mkwargs\u001b[49m\u001b[43m)\u001b[49m\n",
      "File \u001b[0;32m~/Documents/dev/quantpy-twitter-bot/env/lib/python3.11/site-packages/openai/api_resources/chat_completion.py:25\u001b[0m, in \u001b[0;36mChatCompletion.create\u001b[0;34m(cls, *args, **kwargs)\u001b[0m\n\u001b[1;32m     23\u001b[0m \u001b[38;5;28;01mwhile\u001b[39;00m \u001b[38;5;28;01mTrue\u001b[39;00m:\n\u001b[1;32m     24\u001b[0m     \u001b[38;5;28;01mtry\u001b[39;00m:\n\u001b[0;32m---> 25\u001b[0m         \u001b[38;5;28;01mreturn\u001b[39;00m \u001b[38;5;28;43msuper\u001b[39;49m\u001b[43m(\u001b[49m\u001b[43m)\u001b[49m\u001b[38;5;241;43m.\u001b[39;49m\u001b[43mcreate\u001b[49m\u001b[43m(\u001b[49m\u001b[38;5;241;43m*\u001b[39;49m\u001b[43margs\u001b[49m\u001b[43m,\u001b[49m\u001b[43m \u001b[49m\u001b[38;5;241;43m*\u001b[39;49m\u001b[38;5;241;43m*\u001b[39;49m\u001b[43mkwargs\u001b[49m\u001b[43m)\u001b[49m\n\u001b[1;32m     26\u001b[0m     \u001b[38;5;28;01mexcept\u001b[39;00m TryAgain \u001b[38;5;28;01mas\u001b[39;00m e:\n\u001b[1;32m     27\u001b[0m         \u001b[38;5;28;01mif\u001b[39;00m timeout \u001b[38;5;129;01mis\u001b[39;00m \u001b[38;5;129;01mnot\u001b[39;00m \u001b[38;5;28;01mNone\u001b[39;00m \u001b[38;5;129;01mand\u001b[39;00m time\u001b[38;5;241m.\u001b[39mtime() \u001b[38;5;241m>\u001b[39m start \u001b[38;5;241m+\u001b[39m timeout:\n",
      "File \u001b[0;32m~/Documents/dev/quantpy-twitter-bot/env/lib/python3.11/site-packages/openai/api_resources/abstract/engine_api_resource.py:155\u001b[0m, in \u001b[0;36mEngineAPIResource.create\u001b[0;34m(cls, api_key, api_base, api_type, request_id, api_version, organization, **params)\u001b[0m\n\u001b[1;32m    129\u001b[0m \u001b[38;5;129m@classmethod\u001b[39m\n\u001b[1;32m    130\u001b[0m \u001b[38;5;28;01mdef\u001b[39;00m \u001b[38;5;21mcreate\u001b[39m(\n\u001b[1;32m    131\u001b[0m     \u001b[38;5;28mcls\u001b[39m,\n\u001b[0;32m   (...)\u001b[0m\n\u001b[1;32m    138\u001b[0m     \u001b[38;5;241m*\u001b[39m\u001b[38;5;241m*\u001b[39mparams,\n\u001b[1;32m    139\u001b[0m ):\n\u001b[1;32m    140\u001b[0m     (\n\u001b[1;32m    141\u001b[0m         deployment_id,\n\u001b[1;32m    142\u001b[0m         engine,\n\u001b[0;32m   (...)\u001b[0m\n\u001b[1;32m    152\u001b[0m         api_key, api_base, api_type, api_version, organization, \u001b[38;5;241m*\u001b[39m\u001b[38;5;241m*\u001b[39mparams\n\u001b[1;32m    153\u001b[0m     )\n\u001b[0;32m--> 155\u001b[0m     response, _, api_key \u001b[38;5;241m=\u001b[39m \u001b[43mrequestor\u001b[49m\u001b[38;5;241;43m.\u001b[39;49m\u001b[43mrequest\u001b[49m\u001b[43m(\u001b[49m\n\u001b[1;32m    156\u001b[0m \u001b[43m        \u001b[49m\u001b[38;5;124;43m\"\u001b[39;49m\u001b[38;5;124;43mpost\u001b[39;49m\u001b[38;5;124;43m\"\u001b[39;49m\u001b[43m,\u001b[49m\n\u001b[1;32m    157\u001b[0m \u001b[43m        \u001b[49m\u001b[43murl\u001b[49m\u001b[43m,\u001b[49m\n\u001b[1;32m    158\u001b[0m \u001b[43m        \u001b[49m\u001b[43mparams\u001b[49m\u001b[38;5;241;43m=\u001b[39;49m\u001b[43mparams\u001b[49m\u001b[43m,\u001b[49m\n\u001b[1;32m    159\u001b[0m \u001b[43m        \u001b[49m\u001b[43mheaders\u001b[49m\u001b[38;5;241;43m=\u001b[39;49m\u001b[43mheaders\u001b[49m\u001b[43m,\u001b[49m\n\u001b[1;32m    160\u001b[0m \u001b[43m        \u001b[49m\u001b[43mstream\u001b[49m\u001b[38;5;241;43m=\u001b[39;49m\u001b[43mstream\u001b[49m\u001b[43m,\u001b[49m\n\u001b[1;32m    161\u001b[0m \u001b[43m        \u001b[49m\u001b[43mrequest_id\u001b[49m\u001b[38;5;241;43m=\u001b[39;49m\u001b[43mrequest_id\u001b[49m\u001b[43m,\u001b[49m\n\u001b[1;32m    162\u001b[0m \u001b[43m        \u001b[49m\u001b[43mrequest_timeout\u001b[49m\u001b[38;5;241;43m=\u001b[39;49m\u001b[43mrequest_timeout\u001b[49m\u001b[43m,\u001b[49m\n\u001b[1;32m    163\u001b[0m \u001b[43m    \u001b[49m\u001b[43m)\u001b[49m\n\u001b[1;32m    165\u001b[0m     \u001b[38;5;28;01mif\u001b[39;00m stream:\n\u001b[1;32m    166\u001b[0m         \u001b[38;5;66;03m# must be an iterator\u001b[39;00m\n\u001b[1;32m    167\u001b[0m         \u001b[38;5;28;01massert\u001b[39;00m \u001b[38;5;129;01mnot\u001b[39;00m \u001b[38;5;28misinstance\u001b[39m(response, OpenAIResponse)\n",
      "File \u001b[0;32m~/Documents/dev/quantpy-twitter-bot/env/lib/python3.11/site-packages/openai/api_requestor.py:289\u001b[0m, in \u001b[0;36mAPIRequestor.request\u001b[0;34m(self, method, url, params, headers, files, stream, request_id, request_timeout)\u001b[0m\n\u001b[1;32m    278\u001b[0m \u001b[38;5;28;01mdef\u001b[39;00m \u001b[38;5;21mrequest\u001b[39m(\n\u001b[1;32m    279\u001b[0m     \u001b[38;5;28mself\u001b[39m,\n\u001b[1;32m    280\u001b[0m     method,\n\u001b[0;32m   (...)\u001b[0m\n\u001b[1;32m    287\u001b[0m     request_timeout: Optional[Union[\u001b[38;5;28mfloat\u001b[39m, Tuple[\u001b[38;5;28mfloat\u001b[39m, \u001b[38;5;28mfloat\u001b[39m]]] \u001b[38;5;241m=\u001b[39m \u001b[38;5;28;01mNone\u001b[39;00m,\n\u001b[1;32m    288\u001b[0m ) \u001b[38;5;241m-\u001b[39m\u001b[38;5;241m>\u001b[39m Tuple[Union[OpenAIResponse, Iterator[OpenAIResponse]], \u001b[38;5;28mbool\u001b[39m, \u001b[38;5;28mstr\u001b[39m]:\n\u001b[0;32m--> 289\u001b[0m     result \u001b[38;5;241m=\u001b[39m \u001b[38;5;28;43mself\u001b[39;49m\u001b[38;5;241;43m.\u001b[39;49m\u001b[43mrequest_raw\u001b[49m\u001b[43m(\u001b[49m\n\u001b[1;32m    290\u001b[0m \u001b[43m        \u001b[49m\u001b[43mmethod\u001b[49m\u001b[38;5;241;43m.\u001b[39;49m\u001b[43mlower\u001b[49m\u001b[43m(\u001b[49m\u001b[43m)\u001b[49m\u001b[43m,\u001b[49m\n\u001b[1;32m    291\u001b[0m \u001b[43m        \u001b[49m\u001b[43murl\u001b[49m\u001b[43m,\u001b[49m\n\u001b[1;32m    292\u001b[0m \u001b[43m        \u001b[49m\u001b[43mparams\u001b[49m\u001b[38;5;241;43m=\u001b[39;49m\u001b[43mparams\u001b[49m\u001b[43m,\u001b[49m\n\u001b[1;32m    293\u001b[0m \u001b[43m        \u001b[49m\u001b[43msupplied_headers\u001b[49m\u001b[38;5;241;43m=\u001b[39;49m\u001b[43mheaders\u001b[49m\u001b[43m,\u001b[49m\n\u001b[1;32m    294\u001b[0m \u001b[43m        \u001b[49m\u001b[43mfiles\u001b[49m\u001b[38;5;241;43m=\u001b[39;49m\u001b[43mfiles\u001b[49m\u001b[43m,\u001b[49m\n\u001b[1;32m    295\u001b[0m \u001b[43m        \u001b[49m\u001b[43mstream\u001b[49m\u001b[38;5;241;43m=\u001b[39;49m\u001b[43mstream\u001b[49m\u001b[43m,\u001b[49m\n\u001b[1;32m    296\u001b[0m \u001b[43m        \u001b[49m\u001b[43mrequest_id\u001b[49m\u001b[38;5;241;43m=\u001b[39;49m\u001b[43mrequest_id\u001b[49m\u001b[43m,\u001b[49m\n\u001b[1;32m    297\u001b[0m \u001b[43m        \u001b[49m\u001b[43mrequest_timeout\u001b[49m\u001b[38;5;241;43m=\u001b[39;49m\u001b[43mrequest_timeout\u001b[49m\u001b[43m,\u001b[49m\n\u001b[1;32m    298\u001b[0m \u001b[43m    \u001b[49m\u001b[43m)\u001b[49m\n\u001b[1;32m    299\u001b[0m     resp, got_stream \u001b[38;5;241m=\u001b[39m \u001b[38;5;28mself\u001b[39m\u001b[38;5;241m.\u001b[39m_interpret_response(result, stream)\n\u001b[1;32m    300\u001b[0m     \u001b[38;5;28;01mreturn\u001b[39;00m resp, got_stream, \u001b[38;5;28mself\u001b[39m\u001b[38;5;241m.\u001b[39mapi_key\n",
      "File \u001b[0;32m~/Documents/dev/quantpy-twitter-bot/env/lib/python3.11/site-packages/openai/api_requestor.py:606\u001b[0m, in \u001b[0;36mAPIRequestor.request_raw\u001b[0;34m(self, method, url, params, supplied_headers, files, stream, request_id, request_timeout)\u001b[0m\n\u001b[1;32m    604\u001b[0m     _thread_context\u001b[38;5;241m.\u001b[39msession_create_time \u001b[38;5;241m=\u001b[39m time\u001b[38;5;241m.\u001b[39mtime()\n\u001b[1;32m    605\u001b[0m \u001b[38;5;28;01mtry\u001b[39;00m:\n\u001b[0;32m--> 606\u001b[0m     result \u001b[38;5;241m=\u001b[39m \u001b[43m_thread_context\u001b[49m\u001b[38;5;241;43m.\u001b[39;49m\u001b[43msession\u001b[49m\u001b[38;5;241;43m.\u001b[39;49m\u001b[43mrequest\u001b[49m\u001b[43m(\u001b[49m\n\u001b[1;32m    607\u001b[0m \u001b[43m        \u001b[49m\u001b[43mmethod\u001b[49m\u001b[43m,\u001b[49m\n\u001b[1;32m    608\u001b[0m \u001b[43m        \u001b[49m\u001b[43mabs_url\u001b[49m\u001b[43m,\u001b[49m\n\u001b[1;32m    609\u001b[0m \u001b[43m        \u001b[49m\u001b[43mheaders\u001b[49m\u001b[38;5;241;43m=\u001b[39;49m\u001b[43mheaders\u001b[49m\u001b[43m,\u001b[49m\n\u001b[1;32m    610\u001b[0m \u001b[43m        \u001b[49m\u001b[43mdata\u001b[49m\u001b[38;5;241;43m=\u001b[39;49m\u001b[43mdata\u001b[49m\u001b[43m,\u001b[49m\n\u001b[1;32m    611\u001b[0m \u001b[43m        \u001b[49m\u001b[43mfiles\u001b[49m\u001b[38;5;241;43m=\u001b[39;49m\u001b[43mfiles\u001b[49m\u001b[43m,\u001b[49m\n\u001b[1;32m    612\u001b[0m \u001b[43m        \u001b[49m\u001b[43mstream\u001b[49m\u001b[38;5;241;43m=\u001b[39;49m\u001b[43mstream\u001b[49m\u001b[43m,\u001b[49m\n\u001b[1;32m    613\u001b[0m \u001b[43m        \u001b[49m\u001b[43mtimeout\u001b[49m\u001b[38;5;241;43m=\u001b[39;49m\u001b[43mrequest_timeout\u001b[49m\u001b[43m \u001b[49m\u001b[38;5;28;43;01mif\u001b[39;49;00m\u001b[43m \u001b[49m\u001b[43mrequest_timeout\u001b[49m\u001b[43m \u001b[49m\u001b[38;5;28;43;01melse\u001b[39;49;00m\u001b[43m \u001b[49m\u001b[43mTIMEOUT_SECS\u001b[49m\u001b[43m,\u001b[49m\n\u001b[1;32m    614\u001b[0m \u001b[43m        \u001b[49m\u001b[43mproxies\u001b[49m\u001b[38;5;241;43m=\u001b[39;49m\u001b[43m_thread_context\u001b[49m\u001b[38;5;241;43m.\u001b[39;49m\u001b[43msession\u001b[49m\u001b[38;5;241;43m.\u001b[39;49m\u001b[43mproxies\u001b[49m\u001b[43m,\u001b[49m\n\u001b[1;32m    615\u001b[0m \u001b[43m    \u001b[49m\u001b[43m)\u001b[49m\n\u001b[1;32m    616\u001b[0m \u001b[38;5;28;01mexcept\u001b[39;00m requests\u001b[38;5;241m.\u001b[39mexceptions\u001b[38;5;241m.\u001b[39mTimeout \u001b[38;5;28;01mas\u001b[39;00m e:\n\u001b[1;32m    617\u001b[0m     \u001b[38;5;28;01mraise\u001b[39;00m error\u001b[38;5;241m.\u001b[39mTimeout(\u001b[38;5;124m\"\u001b[39m\u001b[38;5;124mRequest timed out: \u001b[39m\u001b[38;5;132;01m{}\u001b[39;00m\u001b[38;5;124m\"\u001b[39m\u001b[38;5;241m.\u001b[39mformat(e)) \u001b[38;5;28;01mfrom\u001b[39;00m \u001b[38;5;21;01me\u001b[39;00m\n",
      "File \u001b[0;32m~/Documents/dev/quantpy-twitter-bot/env/lib/python3.11/site-packages/requests/sessions.py:589\u001b[0m, in \u001b[0;36mSession.request\u001b[0;34m(self, method, url, params, data, headers, cookies, files, auth, timeout, allow_redirects, proxies, hooks, stream, verify, cert, json)\u001b[0m\n\u001b[1;32m    584\u001b[0m send_kwargs \u001b[38;5;241m=\u001b[39m {\n\u001b[1;32m    585\u001b[0m     \u001b[38;5;124m\"\u001b[39m\u001b[38;5;124mtimeout\u001b[39m\u001b[38;5;124m\"\u001b[39m: timeout,\n\u001b[1;32m    586\u001b[0m     \u001b[38;5;124m\"\u001b[39m\u001b[38;5;124mallow_redirects\u001b[39m\u001b[38;5;124m\"\u001b[39m: allow_redirects,\n\u001b[1;32m    587\u001b[0m }\n\u001b[1;32m    588\u001b[0m send_kwargs\u001b[38;5;241m.\u001b[39mupdate(settings)\n\u001b[0;32m--> 589\u001b[0m resp \u001b[38;5;241m=\u001b[39m \u001b[38;5;28;43mself\u001b[39;49m\u001b[38;5;241;43m.\u001b[39;49m\u001b[43msend\u001b[49m\u001b[43m(\u001b[49m\u001b[43mprep\u001b[49m\u001b[43m,\u001b[49m\u001b[43m \u001b[49m\u001b[38;5;241;43m*\u001b[39;49m\u001b[38;5;241;43m*\u001b[39;49m\u001b[43msend_kwargs\u001b[49m\u001b[43m)\u001b[49m\n\u001b[1;32m    591\u001b[0m \u001b[38;5;28;01mreturn\u001b[39;00m resp\n",
      "File \u001b[0;32m~/Documents/dev/quantpy-twitter-bot/env/lib/python3.11/site-packages/requests/sessions.py:703\u001b[0m, in \u001b[0;36mSession.send\u001b[0;34m(self, request, **kwargs)\u001b[0m\n\u001b[1;32m    700\u001b[0m start \u001b[38;5;241m=\u001b[39m preferred_clock()\n\u001b[1;32m    702\u001b[0m \u001b[38;5;66;03m# Send the request\u001b[39;00m\n\u001b[0;32m--> 703\u001b[0m r \u001b[38;5;241m=\u001b[39m \u001b[43madapter\u001b[49m\u001b[38;5;241;43m.\u001b[39;49m\u001b[43msend\u001b[49m\u001b[43m(\u001b[49m\u001b[43mrequest\u001b[49m\u001b[43m,\u001b[49m\u001b[43m \u001b[49m\u001b[38;5;241;43m*\u001b[39;49m\u001b[38;5;241;43m*\u001b[39;49m\u001b[43mkwargs\u001b[49m\u001b[43m)\u001b[49m\n\u001b[1;32m    705\u001b[0m \u001b[38;5;66;03m# Total elapsed time of the request (approximately)\u001b[39;00m\n\u001b[1;32m    706\u001b[0m elapsed \u001b[38;5;241m=\u001b[39m preferred_clock() \u001b[38;5;241m-\u001b[39m start\n",
      "File \u001b[0;32m~/Documents/dev/quantpy-twitter-bot/env/lib/python3.11/site-packages/requests/adapters.py:486\u001b[0m, in \u001b[0;36mHTTPAdapter.send\u001b[0;34m(self, request, stream, timeout, verify, cert, proxies)\u001b[0m\n\u001b[1;32m    483\u001b[0m     timeout \u001b[38;5;241m=\u001b[39m TimeoutSauce(connect\u001b[38;5;241m=\u001b[39mtimeout, read\u001b[38;5;241m=\u001b[39mtimeout)\n\u001b[1;32m    485\u001b[0m \u001b[38;5;28;01mtry\u001b[39;00m:\n\u001b[0;32m--> 486\u001b[0m     resp \u001b[38;5;241m=\u001b[39m \u001b[43mconn\u001b[49m\u001b[38;5;241;43m.\u001b[39;49m\u001b[43murlopen\u001b[49m\u001b[43m(\u001b[49m\n\u001b[1;32m    487\u001b[0m \u001b[43m        \u001b[49m\u001b[43mmethod\u001b[49m\u001b[38;5;241;43m=\u001b[39;49m\u001b[43mrequest\u001b[49m\u001b[38;5;241;43m.\u001b[39;49m\u001b[43mmethod\u001b[49m\u001b[43m,\u001b[49m\n\u001b[1;32m    488\u001b[0m \u001b[43m        \u001b[49m\u001b[43murl\u001b[49m\u001b[38;5;241;43m=\u001b[39;49m\u001b[43murl\u001b[49m\u001b[43m,\u001b[49m\n\u001b[1;32m    489\u001b[0m \u001b[43m        \u001b[49m\u001b[43mbody\u001b[49m\u001b[38;5;241;43m=\u001b[39;49m\u001b[43mrequest\u001b[49m\u001b[38;5;241;43m.\u001b[39;49m\u001b[43mbody\u001b[49m\u001b[43m,\u001b[49m\n\u001b[1;32m    490\u001b[0m \u001b[43m        \u001b[49m\u001b[43mheaders\u001b[49m\u001b[38;5;241;43m=\u001b[39;49m\u001b[43mrequest\u001b[49m\u001b[38;5;241;43m.\u001b[39;49m\u001b[43mheaders\u001b[49m\u001b[43m,\u001b[49m\n\u001b[1;32m    491\u001b[0m \u001b[43m        \u001b[49m\u001b[43mredirect\u001b[49m\u001b[38;5;241;43m=\u001b[39;49m\u001b[38;5;28;43;01mFalse\u001b[39;49;00m\u001b[43m,\u001b[49m\n\u001b[1;32m    492\u001b[0m \u001b[43m        \u001b[49m\u001b[43massert_same_host\u001b[49m\u001b[38;5;241;43m=\u001b[39;49m\u001b[38;5;28;43;01mFalse\u001b[39;49;00m\u001b[43m,\u001b[49m\n\u001b[1;32m    493\u001b[0m \u001b[43m        \u001b[49m\u001b[43mpreload_content\u001b[49m\u001b[38;5;241;43m=\u001b[39;49m\u001b[38;5;28;43;01mFalse\u001b[39;49;00m\u001b[43m,\u001b[49m\n\u001b[1;32m    494\u001b[0m \u001b[43m        \u001b[49m\u001b[43mdecode_content\u001b[49m\u001b[38;5;241;43m=\u001b[39;49m\u001b[38;5;28;43;01mFalse\u001b[39;49;00m\u001b[43m,\u001b[49m\n\u001b[1;32m    495\u001b[0m \u001b[43m        \u001b[49m\u001b[43mretries\u001b[49m\u001b[38;5;241;43m=\u001b[39;49m\u001b[38;5;28;43mself\u001b[39;49m\u001b[38;5;241;43m.\u001b[39;49m\u001b[43mmax_retries\u001b[49m\u001b[43m,\u001b[49m\n\u001b[1;32m    496\u001b[0m \u001b[43m        \u001b[49m\u001b[43mtimeout\u001b[49m\u001b[38;5;241;43m=\u001b[39;49m\u001b[43mtimeout\u001b[49m\u001b[43m,\u001b[49m\n\u001b[1;32m    497\u001b[0m \u001b[43m        \u001b[49m\u001b[43mchunked\u001b[49m\u001b[38;5;241;43m=\u001b[39;49m\u001b[43mchunked\u001b[49m\u001b[43m,\u001b[49m\n\u001b[1;32m    498\u001b[0m \u001b[43m    \u001b[49m\u001b[43m)\u001b[49m\n\u001b[1;32m    500\u001b[0m \u001b[38;5;28;01mexcept\u001b[39;00m (ProtocolError, \u001b[38;5;167;01mOSError\u001b[39;00m) \u001b[38;5;28;01mas\u001b[39;00m err:\n\u001b[1;32m    501\u001b[0m     \u001b[38;5;28;01mraise\u001b[39;00m \u001b[38;5;167;01mConnectionError\u001b[39;00m(err, request\u001b[38;5;241m=\u001b[39mrequest)\n",
      "File \u001b[0;32m~/Documents/dev/quantpy-twitter-bot/env/lib/python3.11/site-packages/urllib3/connectionpool.py:791\u001b[0m, in \u001b[0;36mHTTPConnectionPool.urlopen\u001b[0;34m(self, method, url, body, headers, retries, redirect, assert_same_host, timeout, pool_timeout, release_conn, chunked, body_pos, preload_content, decode_content, **response_kw)\u001b[0m\n\u001b[1;32m    788\u001b[0m response_conn \u001b[38;5;241m=\u001b[39m conn \u001b[38;5;28;01mif\u001b[39;00m \u001b[38;5;129;01mnot\u001b[39;00m release_conn \u001b[38;5;28;01melse\u001b[39;00m \u001b[38;5;28;01mNone\u001b[39;00m\n\u001b[1;32m    790\u001b[0m \u001b[38;5;66;03m# Make the request on the HTTPConnection object\u001b[39;00m\n\u001b[0;32m--> 791\u001b[0m response \u001b[38;5;241m=\u001b[39m \u001b[38;5;28;43mself\u001b[39;49m\u001b[38;5;241;43m.\u001b[39;49m\u001b[43m_make_request\u001b[49m\u001b[43m(\u001b[49m\n\u001b[1;32m    792\u001b[0m \u001b[43m    \u001b[49m\u001b[43mconn\u001b[49m\u001b[43m,\u001b[49m\n\u001b[1;32m    793\u001b[0m \u001b[43m    \u001b[49m\u001b[43mmethod\u001b[49m\u001b[43m,\u001b[49m\n\u001b[1;32m    794\u001b[0m \u001b[43m    \u001b[49m\u001b[43murl\u001b[49m\u001b[43m,\u001b[49m\n\u001b[1;32m    795\u001b[0m \u001b[43m    \u001b[49m\u001b[43mtimeout\u001b[49m\u001b[38;5;241;43m=\u001b[39;49m\u001b[43mtimeout_obj\u001b[49m\u001b[43m,\u001b[49m\n\u001b[1;32m    796\u001b[0m \u001b[43m    \u001b[49m\u001b[43mbody\u001b[49m\u001b[38;5;241;43m=\u001b[39;49m\u001b[43mbody\u001b[49m\u001b[43m,\u001b[49m\n\u001b[1;32m    797\u001b[0m \u001b[43m    \u001b[49m\u001b[43mheaders\u001b[49m\u001b[38;5;241;43m=\u001b[39;49m\u001b[43mheaders\u001b[49m\u001b[43m,\u001b[49m\n\u001b[1;32m    798\u001b[0m \u001b[43m    \u001b[49m\u001b[43mchunked\u001b[49m\u001b[38;5;241;43m=\u001b[39;49m\u001b[43mchunked\u001b[49m\u001b[43m,\u001b[49m\n\u001b[1;32m    799\u001b[0m \u001b[43m    \u001b[49m\u001b[43mretries\u001b[49m\u001b[38;5;241;43m=\u001b[39;49m\u001b[43mretries\u001b[49m\u001b[43m,\u001b[49m\n\u001b[1;32m    800\u001b[0m \u001b[43m    \u001b[49m\u001b[43mresponse_conn\u001b[49m\u001b[38;5;241;43m=\u001b[39;49m\u001b[43mresponse_conn\u001b[49m\u001b[43m,\u001b[49m\n\u001b[1;32m    801\u001b[0m \u001b[43m    \u001b[49m\u001b[43mpreload_content\u001b[49m\u001b[38;5;241;43m=\u001b[39;49m\u001b[43mpreload_content\u001b[49m\u001b[43m,\u001b[49m\n\u001b[1;32m    802\u001b[0m \u001b[43m    \u001b[49m\u001b[43mdecode_content\u001b[49m\u001b[38;5;241;43m=\u001b[39;49m\u001b[43mdecode_content\u001b[49m\u001b[43m,\u001b[49m\n\u001b[1;32m    803\u001b[0m \u001b[43m    \u001b[49m\u001b[38;5;241;43m*\u001b[39;49m\u001b[38;5;241;43m*\u001b[39;49m\u001b[43mresponse_kw\u001b[49m\u001b[43m,\u001b[49m\n\u001b[1;32m    804\u001b[0m \u001b[43m\u001b[49m\u001b[43m)\u001b[49m\n\u001b[1;32m    806\u001b[0m \u001b[38;5;66;03m# Everything went great!\u001b[39;00m\n\u001b[1;32m    807\u001b[0m clean_exit \u001b[38;5;241m=\u001b[39m \u001b[38;5;28;01mTrue\u001b[39;00m\n",
      "File \u001b[0;32m~/Documents/dev/quantpy-twitter-bot/env/lib/python3.11/site-packages/urllib3/connectionpool.py:537\u001b[0m, in \u001b[0;36mHTTPConnectionPool._make_request\u001b[0;34m(self, conn, method, url, body, headers, retries, timeout, chunked, response_conn, preload_content, decode_content, enforce_content_length)\u001b[0m\n\u001b[1;32m    535\u001b[0m \u001b[38;5;66;03m# Receive the response from the server\u001b[39;00m\n\u001b[1;32m    536\u001b[0m \u001b[38;5;28;01mtry\u001b[39;00m:\n\u001b[0;32m--> 537\u001b[0m     response \u001b[38;5;241m=\u001b[39m \u001b[43mconn\u001b[49m\u001b[38;5;241;43m.\u001b[39;49m\u001b[43mgetresponse\u001b[49m\u001b[43m(\u001b[49m\u001b[43m)\u001b[49m\n\u001b[1;32m    538\u001b[0m \u001b[38;5;28;01mexcept\u001b[39;00m (BaseSSLError, \u001b[38;5;167;01mOSError\u001b[39;00m) \u001b[38;5;28;01mas\u001b[39;00m e:\n\u001b[1;32m    539\u001b[0m     \u001b[38;5;28mself\u001b[39m\u001b[38;5;241m.\u001b[39m_raise_timeout(err\u001b[38;5;241m=\u001b[39me, url\u001b[38;5;241m=\u001b[39murl, timeout_value\u001b[38;5;241m=\u001b[39mread_timeout)\n",
      "File \u001b[0;32m~/Documents/dev/quantpy-twitter-bot/env/lib/python3.11/site-packages/urllib3/connection.py:461\u001b[0m, in \u001b[0;36mHTTPConnection.getresponse\u001b[0;34m(self)\u001b[0m\n\u001b[1;32m    458\u001b[0m \u001b[38;5;28;01mfrom\u001b[39;00m \u001b[38;5;21;01m.\u001b[39;00m\u001b[38;5;21;01mresponse\u001b[39;00m \u001b[38;5;28;01mimport\u001b[39;00m HTTPResponse\n\u001b[1;32m    460\u001b[0m \u001b[38;5;66;03m# Get the response from http.client.HTTPConnection\u001b[39;00m\n\u001b[0;32m--> 461\u001b[0m httplib_response \u001b[38;5;241m=\u001b[39m \u001b[38;5;28;43msuper\u001b[39;49m\u001b[43m(\u001b[49m\u001b[43m)\u001b[49m\u001b[38;5;241;43m.\u001b[39;49m\u001b[43mgetresponse\u001b[49m\u001b[43m(\u001b[49m\u001b[43m)\u001b[49m\n\u001b[1;32m    463\u001b[0m \u001b[38;5;28;01mtry\u001b[39;00m:\n\u001b[1;32m    464\u001b[0m     assert_header_parsing(httplib_response\u001b[38;5;241m.\u001b[39mmsg)\n",
      "File \u001b[0;32m~/.pyenv/versions/3.11.4/lib/python3.11/http/client.py:1378\u001b[0m, in \u001b[0;36mHTTPConnection.getresponse\u001b[0;34m(self)\u001b[0m\n\u001b[1;32m   1376\u001b[0m \u001b[38;5;28;01mtry\u001b[39;00m:\n\u001b[1;32m   1377\u001b[0m     \u001b[38;5;28;01mtry\u001b[39;00m:\n\u001b[0;32m-> 1378\u001b[0m         \u001b[43mresponse\u001b[49m\u001b[38;5;241;43m.\u001b[39;49m\u001b[43mbegin\u001b[49m\u001b[43m(\u001b[49m\u001b[43m)\u001b[49m\n\u001b[1;32m   1379\u001b[0m     \u001b[38;5;28;01mexcept\u001b[39;00m \u001b[38;5;167;01mConnectionError\u001b[39;00m:\n\u001b[1;32m   1380\u001b[0m         \u001b[38;5;28mself\u001b[39m\u001b[38;5;241m.\u001b[39mclose()\n",
      "File \u001b[0;32m~/.pyenv/versions/3.11.4/lib/python3.11/http/client.py:318\u001b[0m, in \u001b[0;36mHTTPResponse.begin\u001b[0;34m(self)\u001b[0m\n\u001b[1;32m    316\u001b[0m \u001b[38;5;66;03m# read until we get a non-100 response\u001b[39;00m\n\u001b[1;32m    317\u001b[0m \u001b[38;5;28;01mwhile\u001b[39;00m \u001b[38;5;28;01mTrue\u001b[39;00m:\n\u001b[0;32m--> 318\u001b[0m     version, status, reason \u001b[38;5;241m=\u001b[39m \u001b[38;5;28;43mself\u001b[39;49m\u001b[38;5;241;43m.\u001b[39;49m\u001b[43m_read_status\u001b[49m\u001b[43m(\u001b[49m\u001b[43m)\u001b[49m\n\u001b[1;32m    319\u001b[0m     \u001b[38;5;28;01mif\u001b[39;00m status \u001b[38;5;241m!=\u001b[39m CONTINUE:\n\u001b[1;32m    320\u001b[0m         \u001b[38;5;28;01mbreak\u001b[39;00m\n",
      "File \u001b[0;32m~/.pyenv/versions/3.11.4/lib/python3.11/http/client.py:279\u001b[0m, in \u001b[0;36mHTTPResponse._read_status\u001b[0;34m(self)\u001b[0m\n\u001b[1;32m    278\u001b[0m \u001b[38;5;28;01mdef\u001b[39;00m \u001b[38;5;21m_read_status\u001b[39m(\u001b[38;5;28mself\u001b[39m):\n\u001b[0;32m--> 279\u001b[0m     line \u001b[38;5;241m=\u001b[39m \u001b[38;5;28mstr\u001b[39m(\u001b[38;5;28mself\u001b[39m\u001b[38;5;241m.\u001b[39mfp\u001b[38;5;241m.\u001b[39mreadline(_MAXLINE \u001b[38;5;241m+\u001b[39m \u001b[38;5;241m1\u001b[39m), \u001b[38;5;124m\"\u001b[39m\u001b[38;5;124miso-8859-1\u001b[39m\u001b[38;5;124m\"\u001b[39m)\n\u001b[1;32m    280\u001b[0m     \u001b[38;5;28;01mif\u001b[39;00m \u001b[38;5;28mlen\u001b[39m(line) \u001b[38;5;241m>\u001b[39m _MAXLINE:\n\u001b[1;32m    281\u001b[0m         \u001b[38;5;28;01mraise\u001b[39;00m LineTooLong(\u001b[38;5;124m\"\u001b[39m\u001b[38;5;124mstatus line\u001b[39m\u001b[38;5;124m\"\u001b[39m)\n",
      "File \u001b[0;32m~/.pyenv/versions/3.11.4/lib/python3.11/socket.py:706\u001b[0m, in \u001b[0;36mSocketIO.readinto\u001b[0;34m(self, b)\u001b[0m\n\u001b[1;32m    704\u001b[0m \u001b[38;5;28;01mwhile\u001b[39;00m \u001b[38;5;28;01mTrue\u001b[39;00m:\n\u001b[1;32m    705\u001b[0m     \u001b[38;5;28;01mtry\u001b[39;00m:\n\u001b[0;32m--> 706\u001b[0m         \u001b[38;5;28;01mreturn\u001b[39;00m \u001b[38;5;28;43mself\u001b[39;49m\u001b[38;5;241;43m.\u001b[39;49m\u001b[43m_sock\u001b[49m\u001b[38;5;241;43m.\u001b[39;49m\u001b[43mrecv_into\u001b[49m\u001b[43m(\u001b[49m\u001b[43mb\u001b[49m\u001b[43m)\u001b[49m\n\u001b[1;32m    707\u001b[0m     \u001b[38;5;28;01mexcept\u001b[39;00m timeout:\n\u001b[1;32m    708\u001b[0m         \u001b[38;5;28mself\u001b[39m\u001b[38;5;241m.\u001b[39m_timeout_occurred \u001b[38;5;241m=\u001b[39m \u001b[38;5;28;01mTrue\u001b[39;00m\n",
      "File \u001b[0;32m~/.pyenv/versions/3.11.4/lib/python3.11/ssl.py:1278\u001b[0m, in \u001b[0;36mSSLSocket.recv_into\u001b[0;34m(self, buffer, nbytes, flags)\u001b[0m\n\u001b[1;32m   1274\u001b[0m     \u001b[38;5;28;01mif\u001b[39;00m flags \u001b[38;5;241m!=\u001b[39m \u001b[38;5;241m0\u001b[39m:\n\u001b[1;32m   1275\u001b[0m         \u001b[38;5;28;01mraise\u001b[39;00m \u001b[38;5;167;01mValueError\u001b[39;00m(\n\u001b[1;32m   1276\u001b[0m           \u001b[38;5;124m\"\u001b[39m\u001b[38;5;124mnon-zero flags not allowed in calls to recv_into() on \u001b[39m\u001b[38;5;132;01m%s\u001b[39;00m\u001b[38;5;124m\"\u001b[39m \u001b[38;5;241m%\u001b[39m\n\u001b[1;32m   1277\u001b[0m           \u001b[38;5;28mself\u001b[39m\u001b[38;5;241m.\u001b[39m\u001b[38;5;18m__class__\u001b[39m)\n\u001b[0;32m-> 1278\u001b[0m     \u001b[38;5;28;01mreturn\u001b[39;00m \u001b[38;5;28;43mself\u001b[39;49m\u001b[38;5;241;43m.\u001b[39;49m\u001b[43mread\u001b[49m\u001b[43m(\u001b[49m\u001b[43mnbytes\u001b[49m\u001b[43m,\u001b[49m\u001b[43m \u001b[49m\u001b[43mbuffer\u001b[49m\u001b[43m)\u001b[49m\n\u001b[1;32m   1279\u001b[0m \u001b[38;5;28;01melse\u001b[39;00m:\n\u001b[1;32m   1280\u001b[0m     \u001b[38;5;28;01mreturn\u001b[39;00m \u001b[38;5;28msuper\u001b[39m()\u001b[38;5;241m.\u001b[39mrecv_into(buffer, nbytes, flags)\n",
      "File \u001b[0;32m~/.pyenv/versions/3.11.4/lib/python3.11/ssl.py:1134\u001b[0m, in \u001b[0;36mSSLSocket.read\u001b[0;34m(self, len, buffer)\u001b[0m\n\u001b[1;32m   1132\u001b[0m \u001b[38;5;28;01mtry\u001b[39;00m:\n\u001b[1;32m   1133\u001b[0m     \u001b[38;5;28;01mif\u001b[39;00m buffer \u001b[38;5;129;01mis\u001b[39;00m \u001b[38;5;129;01mnot\u001b[39;00m \u001b[38;5;28;01mNone\u001b[39;00m:\n\u001b[0;32m-> 1134\u001b[0m         \u001b[38;5;28;01mreturn\u001b[39;00m \u001b[38;5;28;43mself\u001b[39;49m\u001b[38;5;241;43m.\u001b[39;49m\u001b[43m_sslobj\u001b[49m\u001b[38;5;241;43m.\u001b[39;49m\u001b[43mread\u001b[49m\u001b[43m(\u001b[49m\u001b[38;5;28;43mlen\u001b[39;49m\u001b[43m,\u001b[49m\u001b[43m \u001b[49m\u001b[43mbuffer\u001b[49m\u001b[43m)\u001b[49m\n\u001b[1;32m   1135\u001b[0m     \u001b[38;5;28;01melse\u001b[39;00m:\n\u001b[1;32m   1136\u001b[0m         \u001b[38;5;28;01mreturn\u001b[39;00m \u001b[38;5;28mself\u001b[39m\u001b[38;5;241m.\u001b[39m_sslobj\u001b[38;5;241m.\u001b[39mread(\u001b[38;5;28mlen\u001b[39m)\n",
      "\u001b[0;31mKeyboardInterrupt\u001b[0m: "
     ]
    }
   ],
   "source": [
    "for quant_tweet_idea in tweetQueue.tweets_not_sent:\n",
    "    logging.info(5*'*'+'Tweet to Gen'+5*'*')\n",
    "    logging.info(quant_tweet_idea)\n",
    "    first_response, short_response = generate_response(llm, quant_topic=quant_tweet_idea.topic, quant_title=quant_tweet_idea.title)\n",
    "    logging.info(5*'*'+'First Draft'+5*'*')\n",
    "    first_draft = extract_tweet(first_response, key_list)\n",
    "    logging.info(f\"Content Length: {count_length(first_draft)} Tweet Dict {first_draft}\")\n",
    "    logging.info(5*'*'+'Second Draft'+5*'*')\n",
    "    short_response = extract_tweet(short_response, key_list)\n",
    "    logging.info(f\"Content Length: {count_length(short_response)} Tweet Dict {short_response}\")\n",
    "\n",
    "    if count_length(first_draft) < 280:\n",
    "        quant_tweet_idea.tweet = Tweet.from_dict(first_draft)\n",
    "        quant_tweet_idea.gen_status = Boolean.TRUE\n",
    "\n",
    "    elif count_length(short_response) < 280:\n",
    "        quant_tweet_idea.tweet = Tweet.from_dict(short_response)\n",
    "        quant_tweet_idea.gen_status = Boolean.TRUE\n",
    "\n",
    "    else:\n",
    "        logging.info('Value issue with Tweet')\n",
    "        \n",
    "    logging.info(50*'-')\n",
    "    time.sleep(20)"
   ]
  },
  {
   "cell_type": "code",
   "execution_count": null,
   "id": "349ee6cf-b6d6-4a8f-8cd3-508da3b3dc76",
   "metadata": {},
   "outputs": [],
   "source": [
    "tweetQueue.to_text_file('quants_tweets_check.txt')"
   ]
  },
  {
   "cell_type": "code",
   "execution_count": 355,
   "id": "2f9a35aa-a757-4714-9fb9-5e8fb9bc5416",
   "metadata": {},
   "outputs": [],
   "source": [
    "tweetQueue.to_text_file('quants_tweets_check.txt')"
   ]
  },
  {
   "cell_type": "code",
   "execution_count": 356,
   "id": "65c17541-5dac-40e1-a2b2-4cbf5f8683f3",
   "metadata": {},
   "outputs": [
    {
     "data": {
      "text/plain": [
       "TrackTweet(id=1, topic='Time Value of Money', title='Unveiling the Magic of Compounding: Time Value of Money', sent_status=<Boolean.FALSE: False>, gen_status=<Boolean.FALSE: False>)"
      ]
     },
     "execution_count": 356,
     "metadata": {},
     "output_type": "execute_result"
    }
   ],
   "source": [
    "tweetQueue.tweets[0]"
   ]
  },
  {
   "cell_type": "code",
   "execution_count": 357,
   "id": "efe0c512-15f3-4adf-aeb2-3d33f309d068",
   "metadata": {},
   "outputs": [
    {
     "data": {
      "text/plain": [
       "TrackTweet(id=1, topic='Time Value of Money', title='Unveiling the Magic of Compounding: Time Value of Money', sent_status=<Boolean.FALSE: False>, gen_status=<Boolean.FALSE: False>)"
      ]
     },
     "execution_count": 357,
     "metadata": {},
     "output_type": "execute_result"
    }
   ],
   "source": [
    "tweetQueue2= TweetQueue.from_text_file('quants_tweets_check.txt')\n",
    "tweetQueue2.tweets[0]"
   ]
  },
  {
   "cell_type": "code",
   "execution_count": 24,
   "id": "e9219783-fd73-4a8b-b7df-1aa7ab909aed",
   "metadata": {},
   "outputs": [
    {
     "ename": "NameError",
     "evalue": "name 'tweetQueueVerify' is not defined",
     "output_type": "error",
     "traceback": [
      "\u001b[0;31m---------------------------------------------------------------------------\u001b[0m",
      "\u001b[0;31mNameError\u001b[0m                                 Traceback (most recent call last)",
      "Cell \u001b[0;32mIn[24], line 1\u001b[0m\n\u001b[0;32m----> 1\u001b[0m tweetQueue \u001b[38;5;241m==\u001b[39m \u001b[43mtweetQueueVerify\u001b[49m\n\u001b[1;32m      2\u001b[0m \u001b[38;5;28mprint\u001b[39m(\u001b[38;5;28mlen\u001b[39m(tweetQueue))\n\u001b[1;32m      3\u001b[0m tweetQueue\u001b[38;5;241m.\u001b[39mtweets[\u001b[38;5;241m0\u001b[39m]\n",
      "\u001b[0;31mNameError\u001b[0m: name 'tweetQueueVerify' is not defined"
     ]
    }
   ],
   "source": [
    "tweetQueue == tweetQueueVerify\n",
    "print(len(tweetQueue))\n",
    "tweetQueue.tweets[0]\n",
    "tweetQueue.tweets[0].update_status(Boolean.TRUE)\n",
    "print(len(tweetQueue))"
   ]
  },
  {
   "cell_type": "code",
   "execution_count": 25,
   "id": "72e535f4-39ee-4b2f-a735-683602555341",
   "metadata": {},
   "outputs": [
    {
     "ename": "IndexError",
     "evalue": "list index out of range",
     "output_type": "error",
     "traceback": [
      "\u001b[0;31m---------------------------------------------------------------------------\u001b[0m",
      "\u001b[0;31mIndexError\u001b[0m                                Traceback (most recent call last)",
      "Cell \u001b[0;32mIn[25], line 1\u001b[0m\n\u001b[0;32m----> 1\u001b[0m quant_tweet_idea \u001b[38;5;241m=\u001b[39m \u001b[43mtweetQueue\u001b[49m\u001b[38;5;241;43m.\u001b[39;49m\u001b[43mtweets_not_sent\u001b[49m\u001b[43m[\u001b[49m\u001b[38;5;241;43m0\u001b[39;49m\u001b[43m]\u001b[49m\n\u001b[1;32m      2\u001b[0m first_response, short_response \u001b[38;5;241m=\u001b[39m generate_response(llm, quant_topic\u001b[38;5;241m=\u001b[39mquant_tweet_idea\u001b[38;5;241m.\u001b[39mtopic, quant_title\u001b[38;5;241m=\u001b[39mquant_tweet_idea\u001b[38;5;241m.\u001b[39mtitle)\n\u001b[1;32m      3\u001b[0m first_draft \u001b[38;5;241m=\u001b[39m extract_tweet(first_response)\n",
      "\u001b[0;31mIndexError\u001b[0m: list index out of range"
     ]
    }
   ],
   "source": [
    "quant_tweet_idea = tweetQueue.tweets_not_sent[0]\n",
    "first_response, short_response = generate_response(llm, quant_topic=quant_tweet_idea.topic, quant_title=quant_tweet_idea.title)\n",
    "first_draft = extract_tweet(first_response)\n",
    "short_response = extract_tweet(short_response)"
   ]
  },
  {
   "cell_type": "code",
   "execution_count": 344,
   "id": "b3b5d74f-cdd6-4ac4-a62d-7cea875fed88",
   "metadata": {},
   "outputs": [
    {
     "data": {
      "text/plain": [
       "<property at 0x11fd953f0>"
      ]
     },
     "execution_count": 344,
     "metadata": {},
     "output_type": "execute_result"
    }
   ],
   "source": [
    "list_not_sent = TweetQueue.list_not_sent\n",
    "list_not_sent"
   ]
  },
  {
   "cell_type": "code",
   "execution_count": 329,
   "id": "28b44eda-ad05-485e-8f20-80e824415b14",
   "metadata": {},
   "outputs": [
    {
     "ename": "SyntaxError",
     "evalue": "invalid syntax (2576123844.py, line 1)",
     "output_type": "error",
     "traceback": [
      "\u001b[0;36m  Cell \u001b[0;32mIn[329], line 1\u001b[0;36m\u001b[0m\n\u001b[0;31m    TweetQueue.list_not_sent:\u001b[0m\n\u001b[0m                             ^\u001b[0m\n\u001b[0;31mSyntaxError\u001b[0m\u001b[0;31m:\u001b[0m invalid syntax\n"
     ]
    }
   ],
   "source": [
    "quant_tweet_idea = TweetQueue.list_not_sent:\n",
    "    first_response, short_response = generate_response(llm, quant_topic=quant_tweet_idea.topic, quant_title=quant_tweet_idea.title)\n",
    "    first_draft = extract_tweet(first_response)\n",
    "    short_response = extract_tweet(short_response)"
   ]
  },
  {
   "cell_type": "code",
   "execution_count": null,
   "id": "1d9404c9-559b-4a91-9dfb-b2af7c8655c2",
   "metadata": {},
   "outputs": [],
   "source": []
  }
 ],
 "metadata": {
  "kernelspec": {
   "display_name": "Python 3 (ipykernel)",
   "language": "python",
   "name": "python3"
  },
  "language_info": {
   "codemirror_mode": {
    "name": "ipython",
    "version": 3
   },
   "file_extension": ".py",
   "mimetype": "text/x-python",
   "name": "python",
   "nbconvert_exporter": "python",
   "pygments_lexer": "ipython3",
   "version": "3.11.4"
  }
 },
 "nbformat": 4,
 "nbformat_minor": 5
}
