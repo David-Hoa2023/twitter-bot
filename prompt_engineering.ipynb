{
 "cells": [
  {
   "cell_type": "markdown",
   "id": "1d37d6de-cbd0-4fe4-98f1-a8c41113bb84",
   "metadata": {},
   "source": [
    "## Prompt Engineering"
   ]
  },
  {
   "cell_type": "code",
   "execution_count": 1,
   "id": "896cab48-886e-4724-864d-6600e5d99cff",
   "metadata": {},
   "outputs": [],
   "source": [
    "from langchain.chat_models import ChatOpenAI\n",
    "from langchain.prompts import ChatPromptTemplate, PromptTemplate, SystemMessagePromptTemplate, AIMessagePromptTemplate, HumanMessagePromptTemplate\n",
    "from dotenv import load_dotenv\n",
    "import os\n",
    "\n",
    "load_dotenv()\n",
    "\n",
    "OPENAI_API_KEY = os.getenv(\"OPENAI_API_KEY\")"
   ]
  },
  {
   "cell_type": "code",
   "execution_count": 3,
   "id": "91098cf3-ed6c-4ab0-8e69-e7e300622c4a",
   "metadata": {},
   "outputs": [],
   "source": [
    "llm = ChatOpenAI(temperature=0.3,\n",
    "                 openai_api_key=OPENAI_API_KEY,\n",
    "                 model_name='gpt-3.5-turbo-0613',\n",
    "                )"
   ]
  },
  {
   "cell_type": "code",
   "execution_count": 10,
   "id": "0011dbdb-1c38-4416-bec8-f57a5e017e9b",
   "metadata": {},
   "outputs": [],
   "source": [
    "def generate_response(llm: ChatOpenAI, quant_topic: str, quant_title: str) -> tuple[str,str]:\n",
    "    \"\"\"Generate AI Twitter Content for QuantPy Media Channels\n",
    "\n",
    "    Parameters:\n",
    "        - llm:  pre-trained ChatOpenAi large language model\n",
    "        - quant_topic: Topic in Quant Finance\n",
    "        - quant_topic: Topic in Quant Finance\n",
    "\n",
    "    Returns:\n",
    "        - tuple[long response,short reposonse]: Chat GPT long and short responses\n",
    "    \"\"\"\n",
    "    # System Template for LLM to follow\n",
    "    system_template = \"\"\"\n",
    "        You are an incredibly wise and smart quantitative analyst that lives and breathes the world of quantitative finance.\n",
    "        Your goal is to writing short-form content for twitter given a `topic` in the area of quantitative finance and a `title` from the user.\n",
    "        \n",
    "        % RESPONSE TONE:\n",
    "\n",
    "        - Your response should be given in an active voice and be opinionated\n",
    "        - Your tone should be serious w/ a hint of wit and sarcasm\n",
    "        \n",
    "        % RESPONSE FORMAT:\n",
    "        \n",
    "        - Be extremely clear and concise\n",
    "        - Respond in short phrases\n",
    "        - No longer than 40 words total\n",
    "        - Total of 280 characters (counting spaces and other characters)\n",
    "        - Do not respond with emojis\n",
    "        \n",
    "        % RESPONSE CONTENT:\n",
    "\n",
    "        - Include specific examples of where this is used in the quantitative finance space\n",
    "        - If you don't have an answer, say, \"Sorry, I'll have to ask the Quant Finance Gods!\"    \n",
    "\n",
    "        % RESPONSE TEMPLATE:\n",
    "\n",
    "        - Here’s a condensed structure tailored for Twitter's 280-character limit: \n",
    "            Hook: Captivate with a one-liner.\n",
    "            Intro: Briefly introduce the topic.\n",
    "            Explanation: Simplify the core idea.\n",
    "            Application: Note real-world relevance.\n",
    "            Closing: Reflective one-liner.\n",
    "            Action: Short engagement call.\n",
    "            Engagement: Quick question.\n",
    "    \n",
    "    \"\"\"\n",
    "    system_message_prompt = SystemMessagePromptTemplate.from_template(system_template)\n",
    "    # human template for input\n",
    "    human_template=\"topic to write about is {topic}, and the title will be {title}. Keep the total response under 200 characters total! respond in short phrases, only one sentence maximium per line no more than 6 words\"\n",
    "    human_message_prompt = HumanMessagePromptTemplate.from_template(human_template, \n",
    "                                                                    input_variables=[\"topic\", \"title\"])\n",
    "\n",
    "    chat_prompt = ChatPromptTemplate.from_messages([system_message_prompt, \n",
    "                                                    human_message_prompt])\n",
    "\n",
    "    # get a chat completion from the formatted messages\n",
    "    final_prompt = chat_prompt.format_prompt(topic=quant_topic, \n",
    "                                             title=quant_title).to_messages()\n",
    "    first_response = llm(final_prompt).content\n",
    "\n",
    "    ai_message_prompt = AIMessagePromptTemplate.from_template(first_response)\n",
    "\n",
    "    # reminder of length\n",
    "    reminder_template=\"This was good, but way too long, please make your response much more concise and much shorter! Please maintain the existing template.\"\n",
    "    reminder_prompt = HumanMessagePromptTemplate.from_template(reminder_template)\n",
    "\n",
    "    chat_prompt2 = ChatPromptTemplate.from_messages([system_message_prompt, \n",
    "                                                     human_template, \n",
    "                                                     ai_message_prompt, \n",
    "                                                     reminder_prompt])\n",
    "\n",
    "    # get a chat completion from the formatted messages\n",
    "    final_prompt = chat_prompt2.format_prompt(topic=quant_topic, \n",
    "                                              title=quant_title).to_messages()\n",
    "    short_response = llm(final_prompt).content\n",
    "\n",
    "    return first_response, short_response"
   ]
  },
  {
   "cell_type": "code",
   "execution_count": 11,
   "id": "db0bbe9b-2446-48ab-a0f6-b5a3f7632886",
   "metadata": {},
   "outputs": [],
   "source": [
    "first_response, short_response = generate_response(llm, quant_topic='Time Value of Money', quant_title='Unveiling the Magic of Compounding: Time Value of Money')"
   ]
  },
  {
   "cell_type": "code",
   "execution_count": 14,
   "id": "29cc4abd-8773-4ab9-8dee-7829c936ea91",
   "metadata": {},
   "outputs": [],
   "source": [
    "count_length = lambda d: sum(len(d[val]) for val in d)\n",
    "key_list=[\"Hook\", \"Intro\", \"Explanation\", \"Application\", \"Closing\", \"Action\", \"Engagement\"]\n",
    "def extract_tweet(openai_tweet: str, key_list: list) -> dict:\n",
    "    \"\"\"Creates dictionary from Openai response using keyword template\n",
    "\n",
    "    Parameters:\n",
    "        - openai_tweet: \n",
    "        - key_list: list key words used for searching reponse template\n",
    "\n",
    "    Returns:\n",
    "        - dictionary: templated tweet\n",
    "    \"\"\"\n",
    "    # Iterate through key list\n",
    "    for i, key in enumerate(key_list):\n",
    "        # find starting position\n",
    "        start = openai_tweet.find(key_list[i])+len(key_list[i])+2\n",
    "        if i != len(key_list) - 1:\n",
    "            # using ending position, subset str and append to template\n",
    "            end = openai_tweet.find(key_list[i+1])\n",
    "            line = openai_tweet[start:end]\n",
    "            template[key_list[i]] = line\n",
    "        else:\n",
    "            # if final word in list, only subsection by start word\n",
    "            template[key_list[i]] = openai_tweet[start:]\n",
    "    return template"
   ]
  },
  {
   "cell_type": "code",
   "execution_count": 215,
   "id": "aea93379-daaf-4da4-9a58-d34b6fbcdd18",
   "metadata": {},
   "outputs": [
    {
     "data": {
      "text/plain": [
       "({'Hook': 'Discover the enchantment of compounding!\\n',\n",
       "  'Intro': 'Unveiling the Time Value of Money.\\n',\n",
       "  'Explanation': 'Money grows exponentially over time.\\n',\n",
       "  'Application': 'Investing, loans, retirement planning, and more.\\n',\n",
       "  'Closing': 'Embrace the power of compounding!\\n',\n",
       "  'Action': 'Start investing today!\\n',\n",
       "  'Engagement': 'How has compounding changed your financial outlook?'},\n",
       " 270)"
      ]
     },
     "execution_count": 215,
     "metadata": {},
     "output_type": "execute_result"
    }
   ],
   "source": [
    "extract_tweet(first_response)"
   ]
  },
  {
   "cell_type": "code",
   "execution_count": 216,
   "id": "2bc4f946-ed5d-4ff0-bc71-0e7693af4aed",
   "metadata": {},
   "outputs": [
    {
     "data": {
      "text/plain": [
       "({'Hook': 'Unveiling the magic of compounding!\\n',\n",
       "  'Intro': 'Time Value of Money explained.\\n',\n",
       "  'Explanation': 'Money grows exponentially over time.\\n',\n",
       "  'Application': 'Investing, loans, retirement planning, and more.\\n',\n",
       "  'Closing': 'Embrace the power of compounding!\\n',\n",
       "  'Action': 'Start investing today!\\n',\n",
       "  'Engagement': 'How has compounding changed your finances?'},\n",
       " 252)"
      ]
     },
     "execution_count": 216,
     "metadata": {},
     "output_type": "execute_result"
    }
   ],
   "source": [
    "extract_tweet(short_response)"
   ]
  },
  {
   "cell_type": "code",
   "execution_count": 65,
   "id": "0754ec28-dce3-4ef5-850e-ecdc01cb3bfb",
   "metadata": {},
   "outputs": [],
   "source": [
    "# Preprocessing content-ideas"
   ]
  },
  {
   "cell_type": "code",
   "execution_count": 82,
   "id": "22fa0e02-9408-48b2-8900-3742efa28b1c",
   "metadata": {},
   "outputs": [
    {
     "name": "stdout",
     "output_type": "stream",
     "text": [
      "1_Time Value of Money_Unveiling the Magic of Compounding: Time Value of Money\n",
      "2_Risk and Return_Playing the Odds: Understanding Risk and Return\n",
      "3_Modern Portfolio Theory_Crafting the Perfect Portfolio: An Intro to MPT\n",
      "4_Black-Scholes Model_The Black-Scholes Legacy: Revolutionizing Option Pricing\n",
      "5_Multifactor Models_Beyond Beta: Exploring Multifactor Models\n",
      "6_Copula Models_Bridging Dependencies: An Insight into Copula Models\n",
      "7_Stochastic Calculus_The Dance of Chance: Delving into Stochastic Calculus\n",
      "8_Ito's Lemma_Ito's Insight: Unpacking Ito's Lemma\n",
      "9_Quantitative Risk Management_Taming Uncertainty: Quantitative Risk Management Essentials\n",
      "10_Simple Moving Average Strategy_Smooth Moves: SMA Trading Strategy Explained\n",
      "11_Backtesting_Rewinding The Market: The Art of Backtesting\n",
      "12_Transaction Costs and Slippage_The Hidden Costs: Navigating Transaction Costs and Slippage\n",
      "13_Portfolio Optimization_Balancing Act: Portfolio Optimization Techniques\n",
      "14_QuantLib Introduction_Toolkit Talk: A Dive into QuantLib\n",
      "15_Implementing Monte Carlo Simulations_Rolling the Dice: Monte Carlo Simulations in Trading\n",
      "16_Time Series Analysis_Decoding Time: An Adventure into Time Series Analysis\n",
      "17_Machine Learning in Finance_The Finance Algorithm: Machine Learning's Role\n",
      "18_Cryptocurrency Quant Strategies_Crypto Conundrums: Quant Strategies in Cryptocurrency Markets\n",
      "19_High-frequency Trading Strategies_Milliseconds to Millions: High-frequency Trading Strategies\n",
      "20_Market Anomalies Analysis_Bizarre Bazaars: Analyzing Market Anomalies\n",
      "21_Financial Crises Analysis_Crash Course: Analyzing Major Financial Crises\n",
      "22_Strategies of Quant Hedge Funds_Quantum Leaps: Strategies of Top Quant Hedge Funds\n",
      "23_Zipline Library Introduction_Zipping Through Data: An Introduction to Zipline Library\n",
      "24_Backtrader Library Introduction_Trade the Code: Getting Started with Backtrader\n",
      "25_Statsmodels Library Introduction_Modeling Market Mysteries with Statsmodels\n",
      "26_Interest Rate Models_Rate of Change: Diving into Interest Rate Models\n",
      "27_Credit Risk Models_Credit Where It's Due: Unveiling Credit Risk Models\n",
      "28_Derivative Pricing_Price Tag on Risk: The World of Derivative Pricing\n",
      "29_Option Pricing_Options Unveiled: The Pricing Paradigm\n",
      "30_Volatility Forecasting_Predicting Pandemonium: Volatility Forecasting Techniques\n",
      "31_Arbitrage Pricing Theory_Free Lunch? Unpacking Arbitrage Pricing Theory\n",
      "32_Behavioral Finance_Mind Over Markets: A Look into Behavioral Finance\n",
      "33_Equity Quant Strategies_Stocks and Quants: Equity Quantitative Strategies\n",
      "34_Fixed Income Quant Strategies_Bonding with Quant: Fixed Income Quantitative Strategies\n",
      "35_Commodities Quant Strategies_Golden Opportunities: Commodities Quantitative Strategies\n",
      "36_Forex Quant Strategies_Currency Code: Forex Quantitative Strategies\n",
      "37_Asset Allocation Strategies_The Allocation Equation: Asset Allocation Strategies\n",
      "38_Liquidity Risk Management_Liquid or Illiquid? Navigating Liquidity Risk\n",
      "39_Performance Measurement_Measuring Mastery: Performance Measurement in Quant Finance\n",
      "40_Hedge Fund Structure and Strategies_Hedge Fund Hierarchy: Structure and Strategies Uncovered\n",
      "41_Asset Pricing Models_Valuing Varieties: A Look at Asset Pricing Models\n",
      "42_Market Microstructure_Market Mosaic: Delving into Market Microstructure\n",
      "43_Algorithmic Trading Risks_Algo Angst: Navigating Risks in Algorithmic Trading\n",
      "44_Regulatory Environment_Rulebook of the Ruled: Understanding Financial Regulation\n",
      "45_Portfolio Performance Analysis_Portfolio's Proof: Delving into Performance Analysis\n",
      "46_Value at Risk (VaR)_VaR's Vantage: Unpacking Value at Risk\n",
      "47_Stress Testing_Financial Fitness: The Essence of Stress Testing\n",
      "48_Exotic Options Pricing_Beyond Vanilla: Pricing Exotic Options\n",
      "49_Sentiment Analysis in Finance_Feel the Market's Pulse: Sentiment Analysis Unveiled\n",
      "50_Systematic Trading Strategies_Systematic Success: Exploring Systematic Trading Strategies\n",
      "51_Trading Psychology_Mind over Markets: Unpacking Trading Psychology\n",
      "52_Alternative Data in Finance_Alt Data Alchemy: The New Gold in Finance\n",
      "53_ETF Trading Strategies_ETF Expeditions: Unveiling Trading Strategies\n",
      "54_Quantitative Model Validation_Model Marvel or Mirage: The Art of Quant Model Validation\n",
      "55_Factor Investing_Factor Feast: Diving into Factor Investing\n",
      "56_Futures and Forwards_Future-Forward Finance: Exploring Futures and Forwards\n",
      "57_Swap Contracts_Switcheroo: Unraveling Swap Contracts\n",
      "58_Risk Parity Strategies_Balancing Act: Delving into Risk Parity Strategies\n",
      "59_Technical Analysis_Charting the Course: Technical Analysis Techniques\n",
      "60_Event-Driven Trading Strategies_Eventful Earnings: Mastering Event-Driven Trading Strategies\n",
      "61_Fundamental Analysis_Beyond Numbers: The Essence of Fundamental Analysis\n",
      "62_Statistical Arbitrage_Statistical Stakes: A Dive into Statistical Arbitrage\n",
      "63_Portfolio Construction_Building Financial Fortresses: Portfolio Construction Essentials\n",
      "64_High-Frequency Trading Technology_Speed Demons: Tech Behind High-Frequency Trading\n",
      "65_Momentum Trading Strategies_Momentum Mysteries: Unveiling Momentum Trading Strategies\n",
      "66_Market Making Strategies_Market Maestro: Mastering Market Making Strategies\n",
      "67_Pairs Trading_Twins of Trade: Pairs Trading Explained\n",
      "68_Machine Learning Algorithm Tuning_Tuning the Financial Tune: ML Algorithm Tuning in Finance\n",
      "69_Neural Networks in Finance_Financial Foresight: Neural Networks in Action\n",
      "70_Reinforcement Learning in Trading_Rewarding Routines: Reinforcement Learning in Trading\n",
      "71_Blockchain Technology_Block by Block: Unpacking Blockchain Technology\n",
      "72_Smart Contracts_Contractual Clarity: Delving into Smart Contracts\n",
      "73_Quantitative Easing Impact_Easing into Economics: Impact of Quantitative Easing\n",
      "74_Inflation Hedging Strategies_Inflation Insulation: Hedging Strategies Explored\n",
      "75_Central Bank Policies_Banking on Policy: Unpacking Central Bank Moves\n",
      "76_Financial Data Cleaning and Processing_Data Detox: Cleaning and Processing Financial Data\n",
      "77_Quantitative Finance Career Paths_Quant Quest: Exploring Career Paths in Quantitative Finance\n",
      "78_Real-world Quantitative Finance Projects_From Theory to Thriving: Real-world Quant Projects\n",
      "79_Financial Ethics and Compliance_Ethical Earnings: Finance Ethics and Compliance\n",
      "80_Trading Platform Development_Platform Power-play: Developing Your Trading Platform\n",
      "81_Python Libraries for Finance_Library Lore: Python Libraries Every Quant Should Know\n",
      "82_Order Book Dynamics_Booked on Books: Understanding Order Book Dynamics\n",
      "83_Derivatives Hedging Strategies_Derivative Defenses: Mastering Hedging Strategies\n",
      "84_Quantitative Finance Interviews Prep_Quant Quizzing: Acing Quantitative Finance Interviews\n",
      "85_Financial Networks Analysis_Network of Net-worth: Unveiling Financial Networks\n",
      "86_Market Impact Models_Impactful Insights: Delving into Market Impact Models\n",
      "87_Trading Signal Generation_Signal Success: Generating and Evaluating Trading Signals\n",
      "88_Latency in Trading Systems_Latent Lessons: The Role of Latency in Trading Systems\n",
      "89_Market Anomalies Exploitation_Anomalous Achievements: Exploiting Market Anomalies\n",
      "90_Trading System Evaluation_Systematic Scrutiny: Evaluating Trading Systems\n",
      "91_Credit Derivatives_Credit Chronicles: An Overview of Credit Derivatives\n",
      "92_Sentiment-Driven Trading Strategies_Sentimental Journeys: Trading on Market Mood\n",
      "93_Survival Analysis in Finance_Survival of the Fittest: Applying Survival Analysis\n",
      "94_Seasonality Effects in Markets_Seasonal Strategies: Navigating Market Seasonality\n",
      "95_Liquidity Provision Strategies_Liquid Logic: Mastering Liquidity Provision Strategies\n",
      "96_Game Theory in Finance_Financial Foresight: Game Theory in Action\n",
      "97_Real Estate Quantitative Analysis_Realty Reality: Quantitative Analysis in Real Estate\n",
      "98_Trading Infrastructure Development_Infrastucture Insights: Building Robust Trading Systems\n",
      "99_Financial Data Visualization_Visual Wealth: Financial Data Visualization Techniques\n",
      "100_High-Frequency Trading_The Need for Speed: Inside High-Frequency Trading\n"
     ]
    }
   ],
   "source": [
    "file = open(\"content-ideas.txt\", \"r\")\n",
    "quant_tweets = {}\n",
    "\n",
    "for line_no, line in enumerate(file.readlines()):\n",
    "    # start 2nd row to avoid heading and underlines\n",
    "    if line_no > 1:\n",
    "        # split on line divisors\n",
    "        items = line.split('|')\n",
    "        # capture and ensure int and str formatting\n",
    "        tweet_no = int(items[1])\n",
    "        quant_topic = items[2].strip()\n",
    "        quant_title = items[3].strip().strip('\"')\n",
    "        # store within dict\n",
    "        quant_tweets[tweet_no] = {}\n",
    "        quant_tweets[tweet_no]['topic'] = quant_topic\n",
    "        quant_tweets[tweet_no]['title'] = quant_title\n",
    "        # print tweet no, topic and title\n",
    "        print(f\"{tweet_no}_{quant_topic}_{quant_title}\")\n",
    "file.close()\n",
    "\n",
    "# storing in desired format\n",
    "with open('quants_tweets.txt', 'w') as f:\n",
    "    for tweet_no, tweet_info in quant_tweets.items():\n",
    "        tweet_repr = str(tweet_no)+'|'+tweet_info['topic']+'|'+tweet_info['title']+'|FALSE|\\n'\n",
    "        f.write(tweet_repr)"
   ]
  },
  {
   "cell_type": "code",
   "execution_count": 360,
   "id": "6459a9f0-36f9-47a5-b686-fc32c017d37e",
   "metadata": {},
   "outputs": [],
   "source": [
    "from enum import Flag\n",
    "from collections import deque\n",
    "from dataclasses import dataclass, field\n",
    "\n",
    "class Boolean(Flag):\n",
    "    TRUE = True\n",
    "    FALSE = False\n",
    "\n",
    "class TweetDeque(deque):\n",
    "    \"\"\"\n",
    "    Container for processing, sorting Tweet dataclass objects\n",
    "    \"\"\"\n",
    "    def sort(self, *args, **kwargs):        \n",
    "        items = [self.pop() for x in range(len(self))]\n",
    "        items.sort(*args, **kwargs)\n",
    "        self.extend(items)\n",
    "\n",
    "@dataclass\n",
    "class Tweet:\n",
    "    \"\"\"Class for keeping track of Tweets\"\"\"\n",
    "    id: int\n",
    "    topic: str\n",
    "    title: str\n",
    "    sent_status: Boolean\n",
    "    tweet: str = field(default=\"\")\n",
    "\n",
    "    def __lt__(self, other):\n",
    "        return (\n",
    "            self.sent_status.value, self.id\n",
    "        ) < (\n",
    "            other.sent_status.value, other.id\n",
    "        )\n",
    "\n",
    "    @classmethod\n",
    "    def from_str(cls, tweet_line: str):\n",
    "        # underscores used to indicate unpacked variables, only used internally\n",
    "        _id, _topic, _title, _sent_status, _next_line = tweet_line.split('|')\n",
    "        # convert status TRUE/FALSE to Enum Representation\n",
    "        _sent_status_bool=Boolean.TRUE if _sent_status == Boolean.TRUE.name else Boolean.FALSE\n",
    "        # return class\n",
    "        return cls(\n",
    "            id=int(_id),\n",
    "            topic=_topic,\n",
    "            title=_title,\n",
    "            sent_status=_sent_status_bool\n",
    "        )\n",
    "\n",
    "    def to_str(self):\n",
    "        return f\"{self.id}|{self.topic}|{self.title}|{self.sent_status.name}|\\n\"\n",
    "\n",
    "    def update_status(self, new_status: Boolean):\n",
    "        self.sent_status = new_status\n",
    "    \n",
    "@dataclass\n",
    "class TweetQueue:\n",
    "    tweets: list[Tweet] = field(default_factory=TweetDeque)\n",
    "    tweets_not_sent: list[Tweet] = field(init=False)\n",
    "\n",
    "    def __post_init__(self):\n",
    "        self.tweets_not_sent = self.list_not_sent()\n",
    "\n",
    "    def __len__(self):\n",
    "        return len(self.tweets)\n",
    "\n",
    "    def __iter__(self):\n",
    "        yield from self.tweets\n",
    "\n",
    "    def enqueue(self, tweet):\n",
    "        # print(f\"{tweet.to_str()} will be added.\")\n",
    "        self.tweets.append(tweet)\n",
    "\n",
    "    def dequeue(self):\n",
    "        # print(f\"{self.tweets[0].to_str()} will be removed.\")\n",
    "        return self.tweets.popleft()\n",
    "\n",
    "    def list_not_sent(self):\n",
    "        _tweets_not_sent = [tweet for tweet in self.tweets if not tweet.sent_status]\n",
    "        print(_tweets_not_sent)\n",
    "        return _tweets_not_sent\n",
    "        \n",
    "    @classmethod\n",
    "    def from_text_file(cls, text_file):\n",
    "        _tweets = cls()\n",
    "        for tweet_line in open(text_file, 'r'):\n",
    "            tweet = Tweet.from_str(tweet_line)\n",
    "            _tweets.enqueue(tweet)\n",
    "        return _tweets\n",
    "\n",
    "    def to_text_file(self, text_file):\n",
    "        with open(text_file, 'w') as f:\n",
    "            for tweet in self.tweets:\n",
    "                tweet_line = tweet.to_str()\n",
    "                f.write(tweet_line)\n",
    "        "
   ]
  },
  {
   "cell_type": "code",
   "execution_count": 361,
   "id": "efe0c512-15f3-4adf-aeb2-3d33f309d068",
   "metadata": {},
   "outputs": [
    {
     "name": "stdout",
     "output_type": "stream",
     "text": [
      "[]\n"
     ]
    }
   ],
   "source": [
    "tweetQueue = TweetQueue.from_text_file('quants_tweets.txt')\n",
    "tweetQueueCheck = tweetQueue.to_text_file('quants_tweets_check.txt')\n",
    "# tweetQueueVerify = TweetQueue.from_text_file('quants_tweets_check.txt')"
   ]
  },
  {
   "cell_type": "code",
   "execution_count": 357,
   "id": "e9219783-fd73-4a8b-b7df-1aa7ab909aed",
   "metadata": {},
   "outputs": [
    {
     "name": "stdout",
     "output_type": "stream",
     "text": [
      "100\n",
      "100\n"
     ]
    }
   ],
   "source": [
    "tweetQueue == tweetQueueVerify\n",
    "print(len(tweetQueue))\n",
    "tweetQueue.tweets[0]\n",
    "tweetQueue.tweets[0].update_status(Boolean.TRUE)\n",
    "print(len(tweetQueue))"
   ]
  },
  {
   "cell_type": "code",
   "execution_count": 352,
   "id": "72e535f4-39ee-4b2f-a735-683602555341",
   "metadata": {},
   "outputs": [
    {
     "ename": "IndexError",
     "evalue": "list index out of range",
     "output_type": "error",
     "traceback": [
      "\u001b[0;31m---------------------------------------------------------------------------\u001b[0m",
      "\u001b[0;31mIndexError\u001b[0m                                Traceback (most recent call last)",
      "Cell \u001b[0;32mIn[352], line 1\u001b[0m\n\u001b[0;32m----> 1\u001b[0m quant_tweet_idea \u001b[38;5;241m=\u001b[39m \u001b[43mtweetQueue\u001b[49m\u001b[38;5;241;43m.\u001b[39;49m\u001b[43mtweets_not_sent\u001b[49m\u001b[43m[\u001b[49m\u001b[38;5;241;43m0\u001b[39;49m\u001b[43m]\u001b[49m\n\u001b[1;32m      2\u001b[0m first_response, short_response \u001b[38;5;241m=\u001b[39m generate_response(llm, quant_topic\u001b[38;5;241m=\u001b[39mquant_tweet_idea\u001b[38;5;241m.\u001b[39mtopic, quant_title\u001b[38;5;241m=\u001b[39mquant_tweet_idea\u001b[38;5;241m.\u001b[39mtitle)\n\u001b[1;32m      3\u001b[0m first_draft \u001b[38;5;241m=\u001b[39m extract_tweet(first_response)\n",
      "\u001b[0;31mIndexError\u001b[0m: list index out of range"
     ]
    }
   ],
   "source": [
    "quant_tweet_idea = tweetQueue.tweets_not_sent[0]\n",
    "first_response, short_response = generate_response(llm, quant_topic=quant_tweet_idea.topic, quant_title=quant_tweet_idea.title)\n",
    "first_draft = extract_tweet(first_response)\n",
    "short_response = extract_tweet(short_response)"
   ]
  },
  {
   "cell_type": "code",
   "execution_count": 344,
   "id": "b3b5d74f-cdd6-4ac4-a62d-7cea875fed88",
   "metadata": {},
   "outputs": [
    {
     "data": {
      "text/plain": [
       "<property at 0x11fd953f0>"
      ]
     },
     "execution_count": 344,
     "metadata": {},
     "output_type": "execute_result"
    }
   ],
   "source": [
    "list_not_sent = TweetQueue.list_not_sent\n",
    "list_not_sent"
   ]
  },
  {
   "cell_type": "code",
   "execution_count": 329,
   "id": "28b44eda-ad05-485e-8f20-80e824415b14",
   "metadata": {},
   "outputs": [
    {
     "ename": "SyntaxError",
     "evalue": "invalid syntax (2576123844.py, line 1)",
     "output_type": "error",
     "traceback": [
      "\u001b[0;36m  Cell \u001b[0;32mIn[329], line 1\u001b[0;36m\u001b[0m\n\u001b[0;31m    TweetQueue.list_not_sent:\u001b[0m\n\u001b[0m                             ^\u001b[0m\n\u001b[0;31mSyntaxError\u001b[0m\u001b[0;31m:\u001b[0m invalid syntax\n"
     ]
    }
   ],
   "source": [
    "quant_tweet_idea = TweetQueue.list_not_sent:\n",
    "    first_response, short_response = generate_response(llm, quant_topic=quant_tweet_idea.topic, quant_title=quant_tweet_idea.title)\n",
    "    first_draft = extract_tweet(first_response)\n",
    "    short_response = extract_tweet(short_response)"
   ]
  },
  {
   "cell_type": "code",
   "execution_count": 37,
   "id": "823b2eff-b08e-40ec-b46b-045a8fbf30a9",
   "metadata": {},
   "outputs": [
    {
     "data": {
      "text/plain": [
       "3"
      ]
     },
     "execution_count": 37,
     "metadata": {},
     "output_type": "execute_result"
    }
   ],
   "source": [
    "from queues import Queue\n",
    "\n",
    "fifo = Queue(\"1st\", \"2nd\", \"3rd\")\n",
    "len(fifo)"
   ]
  },
  {
   "cell_type": "code",
   "execution_count": 41,
   "id": "d4501efb-173c-4b1f-91f1-322c695de8e0",
   "metadata": {},
   "outputs": [
    {
     "name": "stdout",
     "output_type": "stream",
     "text": [
      "1st\n",
      "<queues.Queue object at 0x11f687290>\n",
      "2nd\n",
      "<queues.Queue object at 0x11f687290>\n",
      "3rd\n",
      "<queues.Queue object at 0x11f687290>\n"
     ]
    }
   ],
   "source": [
    "for i in fifo:\n",
    "    print(i)\n",
    "    print(fifo)"
   ]
  },
  {
   "cell_type": "code",
   "execution_count": null,
   "id": "1d9404c9-559b-4a91-9dfb-b2af7c8655c2",
   "metadata": {},
   "outputs": [],
   "source": []
  }
 ],
 "metadata": {
  "kernelspec": {
   "display_name": "Python 3 (ipykernel)",
   "language": "python",
   "name": "python3"
  },
  "language_info": {
   "codemirror_mode": {
    "name": "ipython",
    "version": 3
   },
   "file_extension": ".py",
   "mimetype": "text/x-python",
   "name": "python",
   "nbconvert_exporter": "python",
   "pygments_lexer": "ipython3",
   "version": "3.11.4"
  }
 },
 "nbformat": 4,
 "nbformat_minor": 5
}
